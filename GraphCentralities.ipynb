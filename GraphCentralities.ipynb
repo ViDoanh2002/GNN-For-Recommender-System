{
  "nbformat": 4,
  "nbformat_minor": 0,
  "metadata": {
    "colab": {
      "provenance": []
    },
    "kernelspec": {
      "name": "python3",
      "display_name": "Python 3"
    },
    "language_info": {
      "name": "python"
    }
  },
  "cells": [
    {
      "cell_type": "markdown",
      "source": [
        "## Library:"
      ],
      "metadata": {
        "id": "TNhy6PHNyJXf"
      }
    },
    {
      "cell_type": "code",
      "execution_count": null,
      "metadata": {
        "id": "Ap4UC-euxeZa"
      },
      "outputs": [],
      "source": [
        "import numpy as np\n",
        "import pandas as pd\n",
        "from zipfile import ZipFile\n",
        "import networkx as nx\n",
        "from fastprogress import master_bar, progress_bar\n",
        "from networkx.algorithms import centrality\n",
        "\n",
        "from collections import defaultdict\n",
        "import random as rd\n",
        "import matplotlib.pyplot as plt\n",
        "import seaborn as sns"
      ]
    },
    {
      "cell_type": "code",
      "source": [
        "G = nx.readwrite.edgelist.read_weighted_edgelist('graph.edgelist')"
      ],
      "metadata": {
        "id": "bj4FesZu7HUg"
      },
      "execution_count": null,
      "outputs": []
    },
    {
      "cell_type": "code",
      "source": [
        "num_tops = 10"
      ],
      "metadata": {
        "id": "0fxokyAXzcNL"
      },
      "execution_count": null,
      "outputs": []
    },
    {
      "cell_type": "markdown",
      "source": [
        "## Dataset:"
      ],
      "metadata": {
        "id": "bOV4e3XKyM0g"
      }
    },
    {
      "cell_type": "code",
      "source": [
        "df_anime = pd.read_csv(\"anime.csv\")\n",
        "df_rating = pd.read_csv(\"rating.csv\")"
      ],
      "metadata": {
        "id": "-pcj4Unax0PC"
      },
      "execution_count": null,
      "outputs": []
    },
    {
      "cell_type": "code",
      "source": [
        "display(df_anime.head())\n",
        "display(df_rating.head())"
      ],
      "metadata": {
        "colab": {
          "base_uri": "https://localhost:8080/",
          "height": 447
        },
        "id": "nRdMqIqPz-Tq",
        "outputId": "5ba73914-827f-4552-e2d7-079f20a953c1"
      },
      "execution_count": null,
      "outputs": [
        {
          "output_type": "display_data",
          "data": {
            "text/plain": [
              "   anime_id                              name  \\\n",
              "0     32281                    Kimi no Na wa.   \n",
              "1      5114  Fullmetal Alchemist: Brotherhood   \n",
              "2     28977                          Gintama°   \n",
              "3      9253                       Steins;Gate   \n",
              "4      9969                     Gintama&#039;   \n",
              "\n",
              "                                               genre   type episodes  rating  \\\n",
              "0               Drama, Romance, School, Supernatural  Movie        1    9.37   \n",
              "1  Action, Adventure, Drama, Fantasy, Magic, Mili...     TV       64    9.26   \n",
              "2  Action, Comedy, Historical, Parody, Samurai, S...     TV       51    9.25   \n",
              "3                                   Sci-Fi, Thriller     TV       24    9.17   \n",
              "4  Action, Comedy, Historical, Parody, Samurai, S...     TV       51    9.16   \n",
              "\n",
              "   members  \n",
              "0   200630  \n",
              "1   793665  \n",
              "2   114262  \n",
              "3   673572  \n",
              "4   151266  "
            ],
            "text/html": [
              "\n",
              "  <div id=\"df-99404d03-74cc-4113-b54f-608ed2a6903b\" class=\"colab-df-container\">\n",
              "    <div>\n",
              "<style scoped>\n",
              "    .dataframe tbody tr th:only-of-type {\n",
              "        vertical-align: middle;\n",
              "    }\n",
              "\n",
              "    .dataframe tbody tr th {\n",
              "        vertical-align: top;\n",
              "    }\n",
              "\n",
              "    .dataframe thead th {\n",
              "        text-align: right;\n",
              "    }\n",
              "</style>\n",
              "<table border=\"1\" class=\"dataframe\">\n",
              "  <thead>\n",
              "    <tr style=\"text-align: right;\">\n",
              "      <th></th>\n",
              "      <th>anime_id</th>\n",
              "      <th>name</th>\n",
              "      <th>genre</th>\n",
              "      <th>type</th>\n",
              "      <th>episodes</th>\n",
              "      <th>rating</th>\n",
              "      <th>members</th>\n",
              "    </tr>\n",
              "  </thead>\n",
              "  <tbody>\n",
              "    <tr>\n",
              "      <th>0</th>\n",
              "      <td>32281</td>\n",
              "      <td>Kimi no Na wa.</td>\n",
              "      <td>Drama, Romance, School, Supernatural</td>\n",
              "      <td>Movie</td>\n",
              "      <td>1</td>\n",
              "      <td>9.37</td>\n",
              "      <td>200630</td>\n",
              "    </tr>\n",
              "    <tr>\n",
              "      <th>1</th>\n",
              "      <td>5114</td>\n",
              "      <td>Fullmetal Alchemist: Brotherhood</td>\n",
              "      <td>Action, Adventure, Drama, Fantasy, Magic, Mili...</td>\n",
              "      <td>TV</td>\n",
              "      <td>64</td>\n",
              "      <td>9.26</td>\n",
              "      <td>793665</td>\n",
              "    </tr>\n",
              "    <tr>\n",
              "      <th>2</th>\n",
              "      <td>28977</td>\n",
              "      <td>Gintama°</td>\n",
              "      <td>Action, Comedy, Historical, Parody, Samurai, S...</td>\n",
              "      <td>TV</td>\n",
              "      <td>51</td>\n",
              "      <td>9.25</td>\n",
              "      <td>114262</td>\n",
              "    </tr>\n",
              "    <tr>\n",
              "      <th>3</th>\n",
              "      <td>9253</td>\n",
              "      <td>Steins;Gate</td>\n",
              "      <td>Sci-Fi, Thriller</td>\n",
              "      <td>TV</td>\n",
              "      <td>24</td>\n",
              "      <td>9.17</td>\n",
              "      <td>673572</td>\n",
              "    </tr>\n",
              "    <tr>\n",
              "      <th>4</th>\n",
              "      <td>9969</td>\n",
              "      <td>Gintama&amp;#039;</td>\n",
              "      <td>Action, Comedy, Historical, Parody, Samurai, S...</td>\n",
              "      <td>TV</td>\n",
              "      <td>51</td>\n",
              "      <td>9.16</td>\n",
              "      <td>151266</td>\n",
              "    </tr>\n",
              "  </tbody>\n",
              "</table>\n",
              "</div>\n",
              "    <div class=\"colab-df-buttons\">\n",
              "\n",
              "  <div class=\"colab-df-container\">\n",
              "    <button class=\"colab-df-convert\" onclick=\"convertToInteractive('df-99404d03-74cc-4113-b54f-608ed2a6903b')\"\n",
              "            title=\"Convert this dataframe to an interactive table.\"\n",
              "            style=\"display:none;\">\n",
              "\n",
              "  <svg xmlns=\"http://www.w3.org/2000/svg\" height=\"24px\" viewBox=\"0 -960 960 960\">\n",
              "    <path d=\"M120-120v-720h720v720H120Zm60-500h600v-160H180v160Zm220 220h160v-160H400v160Zm0 220h160v-160H400v160ZM180-400h160v-160H180v160Zm440 0h160v-160H620v160ZM180-180h160v-160H180v160Zm440 0h160v-160H620v160Z\"/>\n",
              "  </svg>\n",
              "    </button>\n",
              "\n",
              "  <style>\n",
              "    .colab-df-container {\n",
              "      display:flex;\n",
              "      gap: 12px;\n",
              "    }\n",
              "\n",
              "    .colab-df-convert {\n",
              "      background-color: #E8F0FE;\n",
              "      border: none;\n",
              "      border-radius: 50%;\n",
              "      cursor: pointer;\n",
              "      display: none;\n",
              "      fill: #1967D2;\n",
              "      height: 32px;\n",
              "      padding: 0 0 0 0;\n",
              "      width: 32px;\n",
              "    }\n",
              "\n",
              "    .colab-df-convert:hover {\n",
              "      background-color: #E2EBFA;\n",
              "      box-shadow: 0px 1px 2px rgba(60, 64, 67, 0.3), 0px 1px 3px 1px rgba(60, 64, 67, 0.15);\n",
              "      fill: #174EA6;\n",
              "    }\n",
              "\n",
              "    .colab-df-buttons div {\n",
              "      margin-bottom: 4px;\n",
              "    }\n",
              "\n",
              "    [theme=dark] .colab-df-convert {\n",
              "      background-color: #3B4455;\n",
              "      fill: #D2E3FC;\n",
              "    }\n",
              "\n",
              "    [theme=dark] .colab-df-convert:hover {\n",
              "      background-color: #434B5C;\n",
              "      box-shadow: 0px 1px 3px 1px rgba(0, 0, 0, 0.15);\n",
              "      filter: drop-shadow(0px 1px 2px rgba(0, 0, 0, 0.3));\n",
              "      fill: #FFFFFF;\n",
              "    }\n",
              "  </style>\n",
              "\n",
              "    <script>\n",
              "      const buttonEl =\n",
              "        document.querySelector('#df-99404d03-74cc-4113-b54f-608ed2a6903b button.colab-df-convert');\n",
              "      buttonEl.style.display =\n",
              "        google.colab.kernel.accessAllowed ? 'block' : 'none';\n",
              "\n",
              "      async function convertToInteractive(key) {\n",
              "        const element = document.querySelector('#df-99404d03-74cc-4113-b54f-608ed2a6903b');\n",
              "        const dataTable =\n",
              "          await google.colab.kernel.invokeFunction('convertToInteractive',\n",
              "                                                    [key], {});\n",
              "        if (!dataTable) return;\n",
              "\n",
              "        const docLinkHtml = 'Like what you see? Visit the ' +\n",
              "          '<a target=\"_blank\" href=https://colab.research.google.com/notebooks/data_table.ipynb>data table notebook</a>'\n",
              "          + ' to learn more about interactive tables.';\n",
              "        element.innerHTML = '';\n",
              "        dataTable['output_type'] = 'display_data';\n",
              "        await google.colab.output.renderOutput(dataTable, element);\n",
              "        const docLink = document.createElement('div');\n",
              "        docLink.innerHTML = docLinkHtml;\n",
              "        element.appendChild(docLink);\n",
              "      }\n",
              "    </script>\n",
              "  </div>\n",
              "\n",
              "\n",
              "<div id=\"df-cfcbf7a9-cba3-409e-b200-3043f606ff8e\">\n",
              "  <button class=\"colab-df-quickchart\" onclick=\"quickchart('df-cfcbf7a9-cba3-409e-b200-3043f606ff8e')\"\n",
              "            title=\"Suggest charts\"\n",
              "            style=\"display:none;\">\n",
              "\n",
              "<svg xmlns=\"http://www.w3.org/2000/svg\" height=\"24px\"viewBox=\"0 0 24 24\"\n",
              "     width=\"24px\">\n",
              "    <g>\n",
              "        <path d=\"M19 3H5c-1.1 0-2 .9-2 2v14c0 1.1.9 2 2 2h14c1.1 0 2-.9 2-2V5c0-1.1-.9-2-2-2zM9 17H7v-7h2v7zm4 0h-2V7h2v10zm4 0h-2v-4h2v4z\"/>\n",
              "    </g>\n",
              "</svg>\n",
              "  </button>\n",
              "\n",
              "<style>\n",
              "  .colab-df-quickchart {\n",
              "      --bg-color: #E8F0FE;\n",
              "      --fill-color: #1967D2;\n",
              "      --hover-bg-color: #E2EBFA;\n",
              "      --hover-fill-color: #174EA6;\n",
              "      --disabled-fill-color: #AAA;\n",
              "      --disabled-bg-color: #DDD;\n",
              "  }\n",
              "\n",
              "  [theme=dark] .colab-df-quickchart {\n",
              "      --bg-color: #3B4455;\n",
              "      --fill-color: #D2E3FC;\n",
              "      --hover-bg-color: #434B5C;\n",
              "      --hover-fill-color: #FFFFFF;\n",
              "      --disabled-bg-color: #3B4455;\n",
              "      --disabled-fill-color: #666;\n",
              "  }\n",
              "\n",
              "  .colab-df-quickchart {\n",
              "    background-color: var(--bg-color);\n",
              "    border: none;\n",
              "    border-radius: 50%;\n",
              "    cursor: pointer;\n",
              "    display: none;\n",
              "    fill: var(--fill-color);\n",
              "    height: 32px;\n",
              "    padding: 0;\n",
              "    width: 32px;\n",
              "  }\n",
              "\n",
              "  .colab-df-quickchart:hover {\n",
              "    background-color: var(--hover-bg-color);\n",
              "    box-shadow: 0 1px 2px rgba(60, 64, 67, 0.3), 0 1px 3px 1px rgba(60, 64, 67, 0.15);\n",
              "    fill: var(--button-hover-fill-color);\n",
              "  }\n",
              "\n",
              "  .colab-df-quickchart-complete:disabled,\n",
              "  .colab-df-quickchart-complete:disabled:hover {\n",
              "    background-color: var(--disabled-bg-color);\n",
              "    fill: var(--disabled-fill-color);\n",
              "    box-shadow: none;\n",
              "  }\n",
              "\n",
              "  .colab-df-spinner {\n",
              "    border: 2px solid var(--fill-color);\n",
              "    border-color: transparent;\n",
              "    border-bottom-color: var(--fill-color);\n",
              "    animation:\n",
              "      spin 1s steps(1) infinite;\n",
              "  }\n",
              "\n",
              "  @keyframes spin {\n",
              "    0% {\n",
              "      border-color: transparent;\n",
              "      border-bottom-color: var(--fill-color);\n",
              "      border-left-color: var(--fill-color);\n",
              "    }\n",
              "    20% {\n",
              "      border-color: transparent;\n",
              "      border-left-color: var(--fill-color);\n",
              "      border-top-color: var(--fill-color);\n",
              "    }\n",
              "    30% {\n",
              "      border-color: transparent;\n",
              "      border-left-color: var(--fill-color);\n",
              "      border-top-color: var(--fill-color);\n",
              "      border-right-color: var(--fill-color);\n",
              "    }\n",
              "    40% {\n",
              "      border-color: transparent;\n",
              "      border-right-color: var(--fill-color);\n",
              "      border-top-color: var(--fill-color);\n",
              "    }\n",
              "    60% {\n",
              "      border-color: transparent;\n",
              "      border-right-color: var(--fill-color);\n",
              "    }\n",
              "    80% {\n",
              "      border-color: transparent;\n",
              "      border-right-color: var(--fill-color);\n",
              "      border-bottom-color: var(--fill-color);\n",
              "    }\n",
              "    90% {\n",
              "      border-color: transparent;\n",
              "      border-bottom-color: var(--fill-color);\n",
              "    }\n",
              "  }\n",
              "</style>\n",
              "\n",
              "  <script>\n",
              "    async function quickchart(key) {\n",
              "      const quickchartButtonEl =\n",
              "        document.querySelector('#' + key + ' button');\n",
              "      quickchartButtonEl.disabled = true;  // To prevent multiple clicks.\n",
              "      quickchartButtonEl.classList.add('colab-df-spinner');\n",
              "      try {\n",
              "        const charts = await google.colab.kernel.invokeFunction(\n",
              "            'suggestCharts', [key], {});\n",
              "      } catch (error) {\n",
              "        console.error('Error during call to suggestCharts:', error);\n",
              "      }\n",
              "      quickchartButtonEl.classList.remove('colab-df-spinner');\n",
              "      quickchartButtonEl.classList.add('colab-df-quickchart-complete');\n",
              "    }\n",
              "    (() => {\n",
              "      let quickchartButtonEl =\n",
              "        document.querySelector('#df-cfcbf7a9-cba3-409e-b200-3043f606ff8e button');\n",
              "      quickchartButtonEl.style.display =\n",
              "        google.colab.kernel.accessAllowed ? 'block' : 'none';\n",
              "    })();\n",
              "  </script>\n",
              "</div>\n",
              "\n",
              "    </div>\n",
              "  </div>\n"
            ],
            "application/vnd.google.colaboratory.intrinsic+json": {
              "type": "dataframe",
              "summary": "{\n  \"name\": \"display(df_rating\",\n  \"rows\": 5,\n  \"fields\": [\n    {\n      \"column\": \"anime_id\",\n      \"properties\": {\n        \"dtype\": \"number\",\n        \"std\": 12526,\n        \"min\": 5114,\n        \"max\": 32281,\n        \"num_unique_values\": 5,\n        \"samples\": [\n          5114,\n          9969,\n          28977\n        ],\n        \"semantic_type\": \"\",\n        \"description\": \"\"\n      }\n    },\n    {\n      \"column\": \"name\",\n      \"properties\": {\n        \"dtype\": \"string\",\n        \"num_unique_values\": 5,\n        \"samples\": [\n          \"Fullmetal Alchemist: Brotherhood\",\n          \"Gintama&#039;\",\n          \"Gintama\\u00b0\"\n        ],\n        \"semantic_type\": \"\",\n        \"description\": \"\"\n      }\n    },\n    {\n      \"column\": \"genre\",\n      \"properties\": {\n        \"dtype\": \"string\",\n        \"num_unique_values\": 4,\n        \"samples\": [\n          \"Action, Adventure, Drama, Fantasy, Magic, Military, Shounen\",\n          \"Sci-Fi, Thriller\",\n          \"Drama, Romance, School, Supernatural\"\n        ],\n        \"semantic_type\": \"\",\n        \"description\": \"\"\n      }\n    },\n    {\n      \"column\": \"type\",\n      \"properties\": {\n        \"dtype\": \"category\",\n        \"num_unique_values\": 2,\n        \"samples\": [\n          \"TV\",\n          \"Movie\"\n        ],\n        \"semantic_type\": \"\",\n        \"description\": \"\"\n      }\n    },\n    {\n      \"column\": \"episodes\",\n      \"properties\": {\n        \"dtype\": \"string\",\n        \"num_unique_values\": 4,\n        \"samples\": [\n          \"64\",\n          \"24\"\n        ],\n        \"semantic_type\": \"\",\n        \"description\": \"\"\n      }\n    },\n    {\n      \"column\": \"rating\",\n      \"properties\": {\n        \"dtype\": \"number\",\n        \"std\": 0.08467585252006588,\n        \"min\": 9.16,\n        \"max\": 9.37,\n        \"num_unique_values\": 5,\n        \"samples\": [\n          9.26,\n          9.16\n        ],\n        \"semantic_type\": \"\",\n        \"description\": \"\"\n      }\n    },\n    {\n      \"column\": \"members\",\n      \"properties\": {\n        \"dtype\": \"number\",\n        \"std\": 321010,\n        \"min\": 114262,\n        \"max\": 793665,\n        \"num_unique_values\": 5,\n        \"samples\": [\n          793665,\n          151266\n        ],\n        \"semantic_type\": \"\",\n        \"description\": \"\"\n      }\n    }\n  ]\n}"
            }
          },
          "metadata": {}
        },
        {
          "output_type": "display_data",
          "data": {
            "text/plain": [
              "   user_id  anime_id  rating\n",
              "0        1        20    -1.0\n",
              "1        1        24    -1.0\n",
              "2        1        79    -1.0\n",
              "3        1       226    -1.0\n",
              "4        1       241    -1.0"
            ],
            "text/html": [
              "\n",
              "  <div id=\"df-444091ff-edc7-40af-8381-1bd65d6a88d2\" class=\"colab-df-container\">\n",
              "    <div>\n",
              "<style scoped>\n",
              "    .dataframe tbody tr th:only-of-type {\n",
              "        vertical-align: middle;\n",
              "    }\n",
              "\n",
              "    .dataframe tbody tr th {\n",
              "        vertical-align: top;\n",
              "    }\n",
              "\n",
              "    .dataframe thead th {\n",
              "        text-align: right;\n",
              "    }\n",
              "</style>\n",
              "<table border=\"1\" class=\"dataframe\">\n",
              "  <thead>\n",
              "    <tr style=\"text-align: right;\">\n",
              "      <th></th>\n",
              "      <th>user_id</th>\n",
              "      <th>anime_id</th>\n",
              "      <th>rating</th>\n",
              "    </tr>\n",
              "  </thead>\n",
              "  <tbody>\n",
              "    <tr>\n",
              "      <th>0</th>\n",
              "      <td>1</td>\n",
              "      <td>20</td>\n",
              "      <td>-1.0</td>\n",
              "    </tr>\n",
              "    <tr>\n",
              "      <th>1</th>\n",
              "      <td>1</td>\n",
              "      <td>24</td>\n",
              "      <td>-1.0</td>\n",
              "    </tr>\n",
              "    <tr>\n",
              "      <th>2</th>\n",
              "      <td>1</td>\n",
              "      <td>79</td>\n",
              "      <td>-1.0</td>\n",
              "    </tr>\n",
              "    <tr>\n",
              "      <th>3</th>\n",
              "      <td>1</td>\n",
              "      <td>226</td>\n",
              "      <td>-1.0</td>\n",
              "    </tr>\n",
              "    <tr>\n",
              "      <th>4</th>\n",
              "      <td>1</td>\n",
              "      <td>241</td>\n",
              "      <td>-1.0</td>\n",
              "    </tr>\n",
              "  </tbody>\n",
              "</table>\n",
              "</div>\n",
              "    <div class=\"colab-df-buttons\">\n",
              "\n",
              "  <div class=\"colab-df-container\">\n",
              "    <button class=\"colab-df-convert\" onclick=\"convertToInteractive('df-444091ff-edc7-40af-8381-1bd65d6a88d2')\"\n",
              "            title=\"Convert this dataframe to an interactive table.\"\n",
              "            style=\"display:none;\">\n",
              "\n",
              "  <svg xmlns=\"http://www.w3.org/2000/svg\" height=\"24px\" viewBox=\"0 -960 960 960\">\n",
              "    <path d=\"M120-120v-720h720v720H120Zm60-500h600v-160H180v160Zm220 220h160v-160H400v160Zm0 220h160v-160H400v160ZM180-400h160v-160H180v160Zm440 0h160v-160H620v160ZM180-180h160v-160H180v160Zm440 0h160v-160H620v160Z\"/>\n",
              "  </svg>\n",
              "    </button>\n",
              "\n",
              "  <style>\n",
              "    .colab-df-container {\n",
              "      display:flex;\n",
              "      gap: 12px;\n",
              "    }\n",
              "\n",
              "    .colab-df-convert {\n",
              "      background-color: #E8F0FE;\n",
              "      border: none;\n",
              "      border-radius: 50%;\n",
              "      cursor: pointer;\n",
              "      display: none;\n",
              "      fill: #1967D2;\n",
              "      height: 32px;\n",
              "      padding: 0 0 0 0;\n",
              "      width: 32px;\n",
              "    }\n",
              "\n",
              "    .colab-df-convert:hover {\n",
              "      background-color: #E2EBFA;\n",
              "      box-shadow: 0px 1px 2px rgba(60, 64, 67, 0.3), 0px 1px 3px 1px rgba(60, 64, 67, 0.15);\n",
              "      fill: #174EA6;\n",
              "    }\n",
              "\n",
              "    .colab-df-buttons div {\n",
              "      margin-bottom: 4px;\n",
              "    }\n",
              "\n",
              "    [theme=dark] .colab-df-convert {\n",
              "      background-color: #3B4455;\n",
              "      fill: #D2E3FC;\n",
              "    }\n",
              "\n",
              "    [theme=dark] .colab-df-convert:hover {\n",
              "      background-color: #434B5C;\n",
              "      box-shadow: 0px 1px 3px 1px rgba(0, 0, 0, 0.15);\n",
              "      filter: drop-shadow(0px 1px 2px rgba(0, 0, 0, 0.3));\n",
              "      fill: #FFFFFF;\n",
              "    }\n",
              "  </style>\n",
              "\n",
              "    <script>\n",
              "      const buttonEl =\n",
              "        document.querySelector('#df-444091ff-edc7-40af-8381-1bd65d6a88d2 button.colab-df-convert');\n",
              "      buttonEl.style.display =\n",
              "        google.colab.kernel.accessAllowed ? 'block' : 'none';\n",
              "\n",
              "      async function convertToInteractive(key) {\n",
              "        const element = document.querySelector('#df-444091ff-edc7-40af-8381-1bd65d6a88d2');\n",
              "        const dataTable =\n",
              "          await google.colab.kernel.invokeFunction('convertToInteractive',\n",
              "                                                    [key], {});\n",
              "        if (!dataTable) return;\n",
              "\n",
              "        const docLinkHtml = 'Like what you see? Visit the ' +\n",
              "          '<a target=\"_blank\" href=https://colab.research.google.com/notebooks/data_table.ipynb>data table notebook</a>'\n",
              "          + ' to learn more about interactive tables.';\n",
              "        element.innerHTML = '';\n",
              "        dataTable['output_type'] = 'display_data';\n",
              "        await google.colab.output.renderOutput(dataTable, element);\n",
              "        const docLink = document.createElement('div');\n",
              "        docLink.innerHTML = docLinkHtml;\n",
              "        element.appendChild(docLink);\n",
              "      }\n",
              "    </script>\n",
              "  </div>\n",
              "\n",
              "\n",
              "<div id=\"df-aa44eef2-6241-48c5-8b00-5e0021fdeeff\">\n",
              "  <button class=\"colab-df-quickchart\" onclick=\"quickchart('df-aa44eef2-6241-48c5-8b00-5e0021fdeeff')\"\n",
              "            title=\"Suggest charts\"\n",
              "            style=\"display:none;\">\n",
              "\n",
              "<svg xmlns=\"http://www.w3.org/2000/svg\" height=\"24px\"viewBox=\"0 0 24 24\"\n",
              "     width=\"24px\">\n",
              "    <g>\n",
              "        <path d=\"M19 3H5c-1.1 0-2 .9-2 2v14c0 1.1.9 2 2 2h14c1.1 0 2-.9 2-2V5c0-1.1-.9-2-2-2zM9 17H7v-7h2v7zm4 0h-2V7h2v10zm4 0h-2v-4h2v4z\"/>\n",
              "    </g>\n",
              "</svg>\n",
              "  </button>\n",
              "\n",
              "<style>\n",
              "  .colab-df-quickchart {\n",
              "      --bg-color: #E8F0FE;\n",
              "      --fill-color: #1967D2;\n",
              "      --hover-bg-color: #E2EBFA;\n",
              "      --hover-fill-color: #174EA6;\n",
              "      --disabled-fill-color: #AAA;\n",
              "      --disabled-bg-color: #DDD;\n",
              "  }\n",
              "\n",
              "  [theme=dark] .colab-df-quickchart {\n",
              "      --bg-color: #3B4455;\n",
              "      --fill-color: #D2E3FC;\n",
              "      --hover-bg-color: #434B5C;\n",
              "      --hover-fill-color: #FFFFFF;\n",
              "      --disabled-bg-color: #3B4455;\n",
              "      --disabled-fill-color: #666;\n",
              "  }\n",
              "\n",
              "  .colab-df-quickchart {\n",
              "    background-color: var(--bg-color);\n",
              "    border: none;\n",
              "    border-radius: 50%;\n",
              "    cursor: pointer;\n",
              "    display: none;\n",
              "    fill: var(--fill-color);\n",
              "    height: 32px;\n",
              "    padding: 0;\n",
              "    width: 32px;\n",
              "  }\n",
              "\n",
              "  .colab-df-quickchart:hover {\n",
              "    background-color: var(--hover-bg-color);\n",
              "    box-shadow: 0 1px 2px rgba(60, 64, 67, 0.3), 0 1px 3px 1px rgba(60, 64, 67, 0.15);\n",
              "    fill: var(--button-hover-fill-color);\n",
              "  }\n",
              "\n",
              "  .colab-df-quickchart-complete:disabled,\n",
              "  .colab-df-quickchart-complete:disabled:hover {\n",
              "    background-color: var(--disabled-bg-color);\n",
              "    fill: var(--disabled-fill-color);\n",
              "    box-shadow: none;\n",
              "  }\n",
              "\n",
              "  .colab-df-spinner {\n",
              "    border: 2px solid var(--fill-color);\n",
              "    border-color: transparent;\n",
              "    border-bottom-color: var(--fill-color);\n",
              "    animation:\n",
              "      spin 1s steps(1) infinite;\n",
              "  }\n",
              "\n",
              "  @keyframes spin {\n",
              "    0% {\n",
              "      border-color: transparent;\n",
              "      border-bottom-color: var(--fill-color);\n",
              "      border-left-color: var(--fill-color);\n",
              "    }\n",
              "    20% {\n",
              "      border-color: transparent;\n",
              "      border-left-color: var(--fill-color);\n",
              "      border-top-color: var(--fill-color);\n",
              "    }\n",
              "    30% {\n",
              "      border-color: transparent;\n",
              "      border-left-color: var(--fill-color);\n",
              "      border-top-color: var(--fill-color);\n",
              "      border-right-color: var(--fill-color);\n",
              "    }\n",
              "    40% {\n",
              "      border-color: transparent;\n",
              "      border-right-color: var(--fill-color);\n",
              "      border-top-color: var(--fill-color);\n",
              "    }\n",
              "    60% {\n",
              "      border-color: transparent;\n",
              "      border-right-color: var(--fill-color);\n",
              "    }\n",
              "    80% {\n",
              "      border-color: transparent;\n",
              "      border-right-color: var(--fill-color);\n",
              "      border-bottom-color: var(--fill-color);\n",
              "    }\n",
              "    90% {\n",
              "      border-color: transparent;\n",
              "      border-bottom-color: var(--fill-color);\n",
              "    }\n",
              "  }\n",
              "</style>\n",
              "\n",
              "  <script>\n",
              "    async function quickchart(key) {\n",
              "      const quickchartButtonEl =\n",
              "        document.querySelector('#' + key + ' button');\n",
              "      quickchartButtonEl.disabled = true;  // To prevent multiple clicks.\n",
              "      quickchartButtonEl.classList.add('colab-df-spinner');\n",
              "      try {\n",
              "        const charts = await google.colab.kernel.invokeFunction(\n",
              "            'suggestCharts', [key], {});\n",
              "      } catch (error) {\n",
              "        console.error('Error during call to suggestCharts:', error);\n",
              "      }\n",
              "      quickchartButtonEl.classList.remove('colab-df-spinner');\n",
              "      quickchartButtonEl.classList.add('colab-df-quickchart-complete');\n",
              "    }\n",
              "    (() => {\n",
              "      let quickchartButtonEl =\n",
              "        document.querySelector('#df-aa44eef2-6241-48c5-8b00-5e0021fdeeff button');\n",
              "      quickchartButtonEl.style.display =\n",
              "        google.colab.kernel.accessAllowed ? 'block' : 'none';\n",
              "    })();\n",
              "  </script>\n",
              "</div>\n",
              "\n",
              "    </div>\n",
              "  </div>\n"
            ],
            "application/vnd.google.colaboratory.intrinsic+json": {
              "type": "dataframe",
              "summary": "{\n  \"name\": \"display(df_rating\",\n  \"rows\": 5,\n  \"fields\": [\n    {\n      \"column\": \"user_id\",\n      \"properties\": {\n        \"dtype\": \"number\",\n        \"std\": 0,\n        \"min\": 1,\n        \"max\": 1,\n        \"num_unique_values\": 1,\n        \"samples\": [\n          1\n        ],\n        \"semantic_type\": \"\",\n        \"description\": \"\"\n      }\n    },\n    {\n      \"column\": \"anime_id\",\n      \"properties\": {\n        \"dtype\": \"number\",\n        \"std\": 108,\n        \"min\": 20,\n        \"max\": 241,\n        \"num_unique_values\": 5,\n        \"samples\": [\n          24\n        ],\n        \"semantic_type\": \"\",\n        \"description\": \"\"\n      }\n    },\n    {\n      \"column\": \"rating\",\n      \"properties\": {\n        \"dtype\": \"number\",\n        \"std\": 0.0,\n        \"min\": -1.0,\n        \"max\": -1.0,\n        \"num_unique_values\": 1,\n        \"samples\": [\n          -1.0\n        ],\n        \"semantic_type\": \"\",\n        \"description\": \"\"\n      }\n    }\n  ]\n}"
            }
          },
          "metadata": {}
        }
      ]
    },
    {
      "cell_type": "code",
      "source": [
        "df_rating.dropna(inplace=True)"
      ],
      "metadata": {
        "id": "Se4CAGo40HM8"
      },
      "execution_count": null,
      "outputs": []
    },
    {
      "cell_type": "code",
      "source": [
        "for i in df_rating.anime_id.unique():\n",
        "  if df_anime[df_anime['anime_id'] == i].empty:\n",
        "    df_rating = df_rating[df_rating['anime_id'] != i]"
      ],
      "metadata": {
        "id": "vA5Lr0rT0Ps6"
      },
      "execution_count": null,
      "outputs": []
    },
    {
      "cell_type": "code",
      "source": [
        "# number of user that have seen an anime, but didn't give a rate (meaning rating = -1)\n",
        "rating_value_counts = df_rating[df_rating['rating'] == -1].rating.value_counts()"
      ],
      "metadata": {
        "id": "J--9fPni0UOc"
      },
      "execution_count": null,
      "outputs": []
    },
    {
      "cell_type": "code",
      "source": [
        "rating_df_rating = df_rating[df_rating['rating'] == -1 ]\n",
        "rating_count = rating_value_counts[-1]"
      ],
      "metadata": {
        "id": "iiRo5QgdP0SD"
      },
      "execution_count": null,
      "outputs": []
    },
    {
      "cell_type": "code",
      "source": [
        "# new dataframe without user-item intercations with rating = -1\n",
        "new_df_rating = df_rating[df_rating['rating'] != -1]\n",
        "assert(new_df_rating.shape[0] == df_rating.shape[0] - rating_count)\n",
        "\n",
        "df_rating = new_df_rating\n",
        "del new_df_rating"
      ],
      "metadata": {
        "id": "Em6zAxKt0gC5"
      },
      "execution_count": null,
      "outputs": []
    },
    {
      "cell_type": "code",
      "source": [
        "num_users = len(df_rating['user_id'].unique())\n",
        "num_items = len(df_rating['anime_id'].unique())\n",
        "num_nodes = num_users + num_items\n",
        "print('Number of nodes: ', num_nodes)\n",
        "print('Number of edges: ', df_rating.shape[0])"
      ],
      "metadata": {
        "colab": {
          "base_uri": "https://localhost:8080/"
        },
        "id": "qnfC2QYs0jDq",
        "outputId": "143e9436-3820-4739-cb0a-c8b2665537f6"
      },
      "execution_count": null,
      "outputs": [
        {
          "output_type": "stream",
          "name": "stdout",
          "text": [
            "Number of nodes:  12795\n",
            "Number of edges:  509576\n"
          ]
        }
      ]
    },
    {
      "cell_type": "markdown",
      "source": [
        "### 1.1 Degree centrality:"
      ],
      "metadata": {
        "id": "R3dqNJ8v0uwB"
      }
    },
    {
      "cell_type": "code",
      "source": [
        "%%time\n",
        "degree_centrality = centrality.degree_centrality(G)"
      ],
      "metadata": {
        "colab": {
          "base_uri": "https://localhost:8080/"
        },
        "id": "VTJm24m70tFP",
        "outputId": "4ec326c7-4d75-4b3a-9bd5-1d57df7a8cce"
      },
      "execution_count": null,
      "outputs": [
        {
          "output_type": "stream",
          "name": "stdout",
          "text": [
            "CPU times: user 25 ms, sys: 0 ns, total: 25 ms\n",
            "Wall time: 24.8 ms\n"
          ]
        }
      ]
    },
    {
      "cell_type": "code",
      "source": [
        "# Sort dictionary by value\n",
        "degree_centrality = {k: v for k, v in sorted(degree_centrality.items(), key=lambda item: item[1], reverse=True)}"
      ],
      "metadata": {
        "id": "aJlTTepv0z5Q"
      },
      "execution_count": null,
      "outputs": []
    },
    {
      "cell_type": "code",
      "source": [
        "_ = pd.DataFrame.from_dict(degree_centrality, orient='index')\n",
        "_.to_csv('/content/degree.csv', header=False)"
      ],
      "metadata": {
        "id": "4pOxYoit0_Nt"
      },
      "execution_count": null,
      "outputs": []
    },
    {
      "cell_type": "code",
      "source": [
        "u = 0 #top users\n",
        "a = 0 #top anime\n",
        "\n",
        "top_degreeU = []\n",
        "top_degreeA = []\n",
        "\n",
        "for k in degree_centrality.keys():\n",
        "  if k[:4] == 'user' and u < num_tops:\n",
        "    u += 1\n",
        "    top_degreeU.append((k, degree_centrality[k]))\n",
        "  elif k[:5] == 'anime' and a < num_tops:\n",
        "    a += 1\n",
        "    top_degreeA.append((k, degree_centrality[k]))\n",
        "  if u == num_tops and a == num_tops:\n",
        "    break"
      ],
      "metadata": {
        "id": "VZHkXY2GAMcF"
      },
      "execution_count": null,
      "outputs": []
    },
    {
      "cell_type": "code",
      "source": [
        "print('Top users:')\n",
        "for k,v in top_degreeU:\n",
        "  print('{}    {}'.format(k,v))\n",
        "\n",
        "print('--------------\\n')\n",
        "\n",
        "print('Top anime:')\n",
        "for k,v in top_degreeA:\n",
        "  print('{}    {}'.format(k,v))"
      ],
      "metadata": {
        "colab": {
          "base_uri": "https://localhost:8080/"
        },
        "id": "eUPH9QAwAZoN",
        "outputId": "397761b7-899c-4b51-9e0f-3131f6a73b8d"
      },
      "execution_count": null,
      "outputs": [
        {
          "output_type": "stream",
          "name": "stdout",
          "text": [
            "Top users:\n",
            "user_7345    0.15182198887430465\n",
            "user_1530    0.09900618788674292\n",
            "user_2951    0.08825551596974811\n",
            "user_8217    0.08769298081130071\n",
            "user_8115    0.08363022688918058\n",
            "user_7114    0.07669229326832927\n",
            "user_6569    0.0742546409150572\n",
            "user_7511    0.07375460966310395\n",
            "user_7247    0.0722545159072442\n",
            "user_5310    0.07212950809425589\n",
            "--------------\n",
            "\n",
            "Top anime:\n",
            "anime_1535    0.259016188511782\n",
            "anime_1575    0.19232452028251765\n",
            "anime_16498    0.18957434839677478\n",
            "anime_11757    0.18613663353959622\n",
            "anime_226    0.18507406712919558\n",
            "anime_121    0.17263578973685856\n",
            "anime_2904    0.17201075067191698\n",
            "anime_20    0.16907306706669167\n",
            "anime_6547    0.15732233264579035\n",
            "anime_4224    0.15394712169510594\n"
          ]
        }
      ]
    },
    {
      "cell_type": "markdown",
      "source": [
        "### 1.2 Closeness centrality"
      ],
      "metadata": {
        "id": "WhtdoWuVCNtH"
      }
    },
    {
      "cell_type": "code",
      "source": [
        "def cost_path(G, edges_list, weight=None):\n",
        "  result = 0\n",
        "  if weight != None:\n",
        "    for i in range(1, len(edges_list)):\n",
        "      v = edges_list[i-1]\n",
        "      u = edges_list[i]\n",
        "      result += G[v][u][weight]\n",
        "  else:\n",
        "    result = len(edges_list) - 1\n",
        "  return result\n"
      ],
      "metadata": {
        "id": "4yWZj-hUCTGO"
      },
      "execution_count": null,
      "outputs": []
    },
    {
      "cell_type": "code",
      "source": [
        "rd.seed(1)\n",
        "\n",
        "def approximateClosenessCentralities(G, k, weight=None):\n",
        "  sum_v = defaultdict()\n",
        "  for v in G.nodes:\n",
        "    sum_v[v] = 0\n",
        "\n",
        "  for i in range(k):\n",
        "    v_i = rd.choice(list(G.nodes))\n",
        "\n",
        "    if weight != None: sssp = nx.algorithms.shortest_paths.generic.shortest_path(G, source=v_i,weight=weight, method='dijkstra')\n",
        "    else: sssp = nx.algorithms.shortest_paths.generic.shortest_path(G, source=v_i,weight=None)\n",
        "\n",
        "    for v in G.nodes:\n",
        "      if weight != None: sum_v[v] += cost_path(G, sssp[v], weight)\n",
        "      else: sum_v[v] += cost_path(G, sssp[v])\n",
        "\n",
        "  cc = defaultdict() #closeness centrality\n",
        "  n = len(G.nodes)\n",
        "  for v in G.nodes:\n",
        "    if sum_v[v] != 0:\n",
        "      cc[v] = 1 / ((n * sum_v[v]) / (k *(n-1)))\n",
        "    else:\n",
        "      cc[v] = 1\n",
        "\n",
        "  return cc"
      ],
      "metadata": {
        "id": "7yx-iZ_ZCYLM"
      },
      "execution_count": null,
      "outputs": []
    },
    {
      "cell_type": "markdown",
      "source": [
        "#### Without weights:"
      ],
      "metadata": {
        "id": "rIUcsuszCcgv"
      }
    },
    {
      "cell_type": "code",
      "source": [
        "%%time\n",
        "k = 150\n",
        "closeness_centrality = approximateClosenessCentralities(G, 150)"
      ],
      "metadata": {
        "colab": {
          "base_uri": "https://localhost:8080/"
        },
        "id": "M8xKfkjLCab8",
        "outputId": "577b7a2e-6f84-4107-d437-5cc8ea33b0bd"
      },
      "execution_count": null,
      "outputs": [
        {
          "output_type": "stream",
          "name": "stdout",
          "text": [
            "CPU times: user 1min 6s, sys: 234 ms, total: 1min 7s\n",
            "Wall time: 1min 8s\n"
          ]
        }
      ]
    },
    {
      "cell_type": "code",
      "source": [
        "# Sort dictionary by value\n",
        "closeness_centrality = {k: v for k, v in sorted(closeness_centrality.items(), key=lambda item: item[1], reverse=True)}"
      ],
      "metadata": {
        "id": "E2vKMVWwCgAv"
      },
      "execution_count": null,
      "outputs": []
    },
    {
      "cell_type": "code",
      "source": [
        "_ = pd.DataFrame.from_dict(closeness_centrality, orient='index')\n",
        "_.to_csv('/content/closeness.csv', header=False)"
      ],
      "metadata": {
        "id": "RamITFzZDAxI"
      },
      "execution_count": null,
      "outputs": []
    },
    {
      "cell_type": "code",
      "source": [
        "u = 0 #top users\n",
        "a = 0 #top anime\n",
        "\n",
        "top_closenessU = []\n",
        "top_closenessA = []\n",
        "\n",
        "for k in closeness_centrality.keys():\n",
        "  if k[:4] == 'user' and u < num_tops:\n",
        "    u += 1\n",
        "    top_closenessU.append((k, closeness_centrality[k]))\n",
        "  elif k[:5] == 'anime' and a < num_tops:\n",
        "    a += 1\n",
        "    top_closenessA.append((k, closeness_centrality[k]))\n",
        "  if u == num_tops and a == num_tops:\n",
        "    break"
      ],
      "metadata": {
        "id": "x60_wa5pDGpQ"
      },
      "execution_count": null,
      "outputs": []
    },
    {
      "cell_type": "code",
      "source": [
        "print('Top users:')\n",
        "for k,v in top_closenessU:\n",
        "  print('{}    {}'.format(k,v))\n",
        "\n",
        "print('--------------\\n')\n",
        "\n",
        "print('Top anime:')\n",
        "for k,v in top_closenessA:\n",
        "  print('{}    {}'.format(k,v))"
      ],
      "metadata": {
        "colab": {
          "base_uri": "https://localhost:8080/"
        },
        "id": "ZaH_u35rDIJg",
        "outputId": "d0e2f024-d24d-43e9-c94a-c30bfa3b9bdc"
      },
      "execution_count": null,
      "outputs": [
        {
          "output_type": "stream",
          "name": "stdout",
          "text": [
            "Top users:\n",
            "user_7345    0.4504222972972973\n",
            "user_5310    0.4322496397694524\n",
            "user_7366    0.4322496397694524\n",
            "user_6869    0.4297725644699141\n",
            "user_7114    0.4297725644699141\n",
            "user_8115    0.4297725644699141\n",
            "user_5669    0.42732371794871793\n",
            "user_5908    0.42732371794871793\n",
            "user_6474    0.42732371794871793\n",
            "user_1497    0.42490262039660054\n",
            "--------------\n",
            "\n",
            "Top anime:\n",
            "anime_1535    0.4822849678456591\n",
            "anime_11757    0.4731565457413249\n",
            "anime_226    0.4701900470219436\n",
            "anime_20    0.46726051401869156\n",
            "anime_1575    0.45589855623100306\n",
            "anime_16498    0.45314388217522655\n",
            "anime_30    0.4504222972972973\n",
            "anime_4224    0.4504222972972973\n",
            "anime_2904    0.4477332089552239\n",
            "anime_3588    0.4372904518950437\n"
          ]
        }
      ]
    },
    {
      "cell_type": "markdown",
      "source": [
        "#### With weights (ratings in this case):"
      ],
      "metadata": {
        "id": "tzg4bYm5DLTH"
      }
    },
    {
      "cell_type": "code",
      "source": [
        "%%time\n",
        "k = 150\n",
        "closeness_centrality = approximateClosenessCentralities(G, 150, 'weight')"
      ],
      "metadata": {
        "colab": {
          "base_uri": "https://localhost:8080/"
        },
        "id": "wid1LR7sDJlh",
        "outputId": "38abe820-f811-4f38-a3a9-cea76a6f25ae"
      },
      "execution_count": null,
      "outputs": [
        {
          "output_type": "stream",
          "name": "stdout",
          "text": [
            "CPU times: user 5min 28s, sys: 1.21 s, total: 5min 29s\n",
            "Wall time: 5min 35s\n"
          ]
        }
      ]
    },
    {
      "cell_type": "code",
      "source": [
        "# Sort dictionary by value\n",
        "closeness_centrality = {k: v for k, v in sorted(closeness_centrality.items(), key=lambda item: item[1], reverse=True)}"
      ],
      "metadata": {
        "id": "PsNZJ4a6DOLj"
      },
      "execution_count": null,
      "outputs": []
    },
    {
      "cell_type": "code",
      "source": [
        "_ = pd.DataFrame.from_dict(closeness_centrality, orient='index')\n",
        "_.to_csv('/content/closenessW.csv', header=False)"
      ],
      "metadata": {
        "id": "ZTHr6SR1DRC0"
      },
      "execution_count": null,
      "outputs": []
    },
    {
      "cell_type": "code",
      "source": [
        "u = 0 #top users\n",
        "a = 0 #top anime\n",
        "\n",
        "top_closenessU = []\n",
        "top_closenessA = []\n",
        "\n",
        "for k in closeness_centrality.keys():\n",
        "  if k[:4] == 'user' and u < num_tops:\n",
        "    u += 1\n",
        "    top_closenessU.append((k, closeness_centrality[k]))\n",
        "  elif k[:5] == 'anime' and a < num_tops:\n",
        "    a += 1\n",
        "    top_closenessA.append((k, closeness_centrality[k]))\n",
        "  if u == num_tops and a == num_tops:\n",
        "    break"
      ],
      "metadata": {
        "id": "zMbhu5QLDTC7"
      },
      "execution_count": null,
      "outputs": []
    },
    {
      "cell_type": "code",
      "source": [
        "print('Top users:')\n",
        "for k,v in top_closenessU:\n",
        "  print('{}    {}'.format(k,v))\n",
        "\n",
        "print('--------------\\n')\n",
        "\n",
        "print('Top anime:')\n",
        "for k,v in top_closenessA:\n",
        "  print('{}    {}'.format(k,v))\n"
      ],
      "metadata": {
        "colab": {
          "base_uri": "https://localhost:8080/"
        },
        "id": "a2gM7CwsDXSg",
        "outputId": "d887ad5c-19ab-4f1d-91a1-76a4bc543e2c"
      },
      "execution_count": null,
      "outputs": [
        {
          "output_type": "stream",
          "name": "stdout",
          "text": [
            "Top users:\n",
            "user_5    0.12974967560553632\n",
            "user_5137    0.12754304846938774\n",
            "user_6869    0.12395919421487603\n",
            "user_4512    0.12244132653061225\n",
            "user_4168    0.1214498987854251\n",
            "user_271    0.12057124196141478\n",
            "user_6618    0.1199925\n",
            "user_3925    0.11989658273381296\n",
            "user_1938    0.11970520750199522\n",
            "user_99    0.11960974880382776\n",
            "--------------\n",
            "\n",
            "Top anime:\n",
            "anime_19315    0.12541022157190634\n",
            "anime_413    0.1249921875\n",
            "anime_25429    0.12437033582089552\n",
            "anime_2476    0.12314501231527093\n",
            "anime_21033    0.12204281936533766\n",
            "anime_225    0.1214498987854251\n",
            "anime_15609    0.12096018145161291\n",
            "anime_20457    0.12096018145161291\n",
            "anime_18857    0.12086271152296536\n",
            "anime_4975    0.12047439759036144\n"
          ]
        }
      ]
    },
    {
      "cell_type": "markdown",
      "source": [
        "#### With weights (ratings function):"
      ],
      "metadata": {
        "id": "pdChdzvLDb2O"
      }
    },
    {
      "cell_type": "markdown",
      "source": [
        "    f(x) = -x^{2} + 110"
      ],
      "metadata": {
        "id": "XRlk8NhXDdce"
      }
    },
    {
      "cell_type": "code",
      "source": [
        "\n",
        "x = np.linspace(0, 10, 1000)\n",
        "y = -x**2+110\n",
        "fig, ax = plt.subplots(1,1, figsize=(5,4))\n",
        "ax.plot(x, y, color='k')\n",
        "\n",
        "'''\n",
        "# highlight\n",
        "x = np.linspace(0, 10, 1000)\n",
        "y = -x**2+110\n",
        "ax.fill_between(x, y-2, y+2, color='limegreen', alpha=0.5)\n",
        "'''\n",
        "\n",
        "plt.xlabel('x')\n",
        "plt.ylabel('f(x)')\n",
        "plt.title(r'f(x) = -x^{2} + 110')\n",
        "plt.grid(color='gray', linestyle='--')\n",
        "plt.tight_layout()\n",
        "plt.savefig('/content/function_weights.jpg')\n",
        "plt.show()"
      ],
      "metadata": {
        "colab": {
          "base_uri": "https://localhost:8080/",
          "height": 407
        },
        "id": "qh6T1wC4DZMX",
        "outputId": "a8892188-d4da-47ff-d6f8-3cab09b61a64"
      },
      "execution_count": null,
      "outputs": [
        {
          "output_type": "display_data",
          "data": {
            "text/plain": [
              "<Figure size 500x400 with 1 Axes>"
            ],
            "image/png": "[encoded data removed]"
          },
          "metadata": {}
        }
      ]
    },
    {
      "cell_type": "code",
      "source": [
        "G_prime = G.copy()\n",
        "for e in progress_bar(list(G_prime.edges(data=True))):\n",
        "  v = e[0] #node\n",
        "  u = e[1] #node\n",
        "  w = e[2]['weight']\n",
        "\n",
        "  # apply function f(x) = -x^2+110\n",
        "  w2 = -w**2+110\n",
        "\n",
        "  # update weight on the graph\n",
        "  G_prime[v][u]['weight'] = w2"
      ],
      "metadata": {
        "colab": {
          "base_uri": "https://localhost:8080/",
          "height": 37
        },
        "id": "Q3v93RgvEA5q",
        "outputId": "e0fb5165-38d9-4550-89ab-0e1ed1cbeedd"
      },
      "execution_count": null,
      "outputs": [
        {
          "output_type": "display_data",
          "data": {
            "text/plain": [
              "<IPython.core.display.HTML object>"
            ],
            "text/html": [
              "\n",
              "<style>\n",
              "    /* Turns off some styling */\n",
              "    progress {\n",
              "        /* gets rid of default border in Firefox and Opera. */\n",
              "        border: none;\n",
              "        /* Needs to be in here for Safari polyfill so background images work as expected. */\n",
              "        background-size: auto;\n",
              "    }\n",
              "    progress:not([value]), progress:not([value])::-webkit-progress-bar {\n",
              "        background: repeating-linear-gradient(45deg, #7e7e7e, #7e7e7e 10px, #5c5c5c 10px, #5c5c5c 20px);\n",
              "    }\n",
              "    .progress-bar-interrupted, .progress-bar-interrupted::-webkit-progress-bar {\n",
              "        background: #F44336;\n",
              "    }\n",
              "</style>\n"
            ]
          },
          "metadata": {}
        },
        {
          "output_type": "display_data",
          "data": {
            "text/plain": [
              "<IPython.core.display.HTML object>"
            ],
            "text/html": [
              "\n",
              "    <div>\n",
              "      <progress value='772478' class='' max='772478' style='width:300px; height:20px; vertical-align: middle;'></progress>\n",
              "      100.00% [772478/772478 00:01&lt;00:00]\n",
              "    </div>\n",
              "    "
            ]
          },
          "metadata": {}
        }
      ]
    },
    {
      "cell_type": "markdown",
      "source": [
        "#### Centrality computation:"
      ],
      "metadata": {
        "id": "JOJshG3UPfPn"
      }
    },
    {
      "cell_type": "code",
      "source": [
        "%%time\n",
        "k = 150\n",
        "closeness_centralityFW = approximateClosenessCentralities(G_prime, 150, 'weight')"
      ],
      "metadata": {
        "colab": {
          "base_uri": "https://localhost:8080/"
        },
        "id": "6JkNAUcMPgNi",
        "outputId": "c0cfdfe5-74e8-4887-c6c1-fd02c895d6fe"
      },
      "execution_count": null,
      "outputs": [
        {
          "output_type": "stream",
          "name": "stdout",
          "text": [
            "CPU times: user 5min 23s, sys: 1.02 s, total: 5min 24s\n",
            "Wall time: 5min 32s\n"
          ]
        }
      ]
    },
    {
      "cell_type": "code",
      "source": [
        "# Sort dictionary by value\n",
        "closeness_centralityFW = {k: v for k, v in sorted(closeness_centralityFW.items(), key=lambda item: item[1], reverse=True)}"
      ],
      "metadata": {
        "id": "slCXBle0Pjcj"
      },
      "execution_count": null,
      "outputs": []
    },
    {
      "cell_type": "code",
      "source": [
        "_ = pd.DataFrame.from_dict(closeness_centralityFW, orient='index')\n",
        "_.to_csv('/content/closenessFW.csv', header=False)"
      ],
      "metadata": {
        "id": "eCXwJ9mmPluu"
      },
      "execution_count": null,
      "outputs": []
    },
    {
      "cell_type": "code",
      "source": [
        "u = 0 #top users\n",
        "a = 0 #top anime\n",
        "\n",
        "top_closenessU = []\n",
        "top_closenessA = []\n",
        "\n",
        "for k in closeness_centralityFW.keys():\n",
        "  if k[:4] == 'user' and u < num_tops:\n",
        "    u += 1\n",
        "    top_closenessU.append((k, closeness_centralityFW[k]))\n",
        "  elif k[:5] == 'anime' and a < num_tops:\n",
        "    a += 1\n",
        "    top_closenessA.append((k, closeness_centralityFW[k]))\n",
        "  if u == num_tops and a == num_tops:\n",
        "    break"
      ],
      "metadata": {
        "id": "H26dPJb5PraS"
      },
      "execution_count": null,
      "outputs": []
    },
    {
      "cell_type": "code",
      "source": [
        "print('Top users:')\n",
        "for k,v in top_closenessU:\n",
        "  print('{}    {}'.format(k,v))\n",
        "\n",
        "print('--------------\\n')\n",
        "\n",
        "print('Top anime:')\n",
        "for k,v in top_closenessA:\n",
        "  print('{}    {}'.format(k,v))"
      ],
      "metadata": {
        "colab": {
          "base_uri": "https://localhost:8080/"
        },
        "id": "cUoPTmfxPuFq",
        "outputId": "909fa80d-320f-47c0-cd83-547b6d5aa922"
      },
      "execution_count": null,
      "outputs": [
        {
          "output_type": "stream",
          "name": "stdout",
          "text": [
            "Top users:\n",
            "user_6969    0.027668442169341452\n",
            "user_6299    0.027566738650983275\n",
            "user_3657    0.027320696721311474\n",
            "user_7114    0.027300805424099017\n",
            "user_6162    0.027256155733236413\n",
            "user_7347    0.02725120367005814\n",
            "user_2873    0.02719191896301668\n",
            "user_6152    0.027118174832760803\n",
            "user_8001    0.02708389761646804\n",
            "user_7716    0.027079007943672143\n",
            "--------------\n",
            "\n",
            "Top anime:\n",
            "anime_1535    0.027516166758392954\n",
            "anime_2904    0.02670773237179487\n",
            "anime_1575    0.026388216924700916\n",
            "anime_199    0.026300302472382957\n",
            "anime_9253    0.02624048722883135\n",
            "anime_5114    0.02581594234079174\n",
            "anime_4224    0.025762731879079355\n",
            "anime_2001    0.02567892912172573\n",
            "anime_16498    0.025569489430617116\n",
            "anime_121    0.02549993624617477\n"
          ]
        }
      ]
    },
    {
      "cell_type": "markdown",
      "source": [
        "### 1.3 Degree centrality - Bipartite:"
      ],
      "metadata": {
        "id": "HHs-xTvgQEZ2"
      }
    },
    {
      "cell_type": "markdown",
      "source": [
        "#### Computation:"
      ],
      "metadata": {
        "id": "egzb1fjZQIC1"
      }
    },
    {
      "cell_type": "code",
      "source": [
        "# Add user node features\n",
        "for i in df_rating.user_id.unique():\n",
        "  attrs = {'user_' + str(i): {'node_type':'user'}}\n",
        "  nx.set_node_attributes(G, attrs)\n",
        "\n",
        "# Add anime node features\n",
        "for i in df_rating.anime_id.unique():\n",
        "  attrs = {'anime_' + str(i): {'node_type':'anime'}}\n",
        "  nx.set_node_attributes(G, attrs)"
      ],
      "metadata": {
        "id": "zqABp0V-QBsL"
      },
      "execution_count": null,
      "outputs": []
    },
    {
      "cell_type": "code",
      "source": [
        "anime_nodes = []\n",
        "for id,t in G.nodes(data='node_type'):\n",
        "  if t == 'anime':\n",
        "    anime_nodes.append(id)"
      ],
      "metadata": {
        "id": "Yni8xSi4eBV3"
      },
      "execution_count": null,
      "outputs": []
    },
    {
      "cell_type": "code",
      "source": [
        "%%time\n",
        "degree_centrality = nx.algorithms.bipartite.centrality.degree_centrality(G, anime_nodes)"
      ],
      "metadata": {
        "colab": {
          "base_uri": "https://localhost:8080/"
        },
        "id": "dsDkVw2feCoZ",
        "outputId": "1ab9e3b9-aaee-4c40-92c2-42160d9d5fae"
      },
      "execution_count": null,
      "outputs": [
        {
          "output_type": "stream",
          "name": "stdout",
          "text": [
            "CPU times: user 38.7 ms, sys: 0 ns, total: 38.7 ms\n",
            "Wall time: 42.6 ms\n"
          ]
        }
      ]
    },
    {
      "cell_type": "code",
      "source": [
        "# Sort dictionary by value\n",
        "degree_centrality = {k: v for k, v in sorted(degree_centrality.items(), key=lambda item: item[1], reverse=True)}"
      ],
      "metadata": {
        "id": "y_QC56afeEWO"
      },
      "execution_count": null,
      "outputs": []
    },
    {
      "cell_type": "code",
      "source": [
        "_ = pd.DataFrame.from_dict(degree_centrality, orient='index')\n",
        "_.to_csv('/content/degreeB.csv', header=False)"
      ],
      "metadata": {
        "id": "-3LqwW6FeHaA"
      },
      "execution_count": null,
      "outputs": []
    },
    {
      "cell_type": "code",
      "source": [
        "u = 0 #top users\n",
        "a = 0 #top anime\n",
        "\n",
        "top_degreeU = []\n",
        "top_degreeA = []\n",
        "\n",
        "for k in degree_centrality.keys():\n",
        "  if k[:4] == 'user' and u < num_tops:\n",
        "    u += 1\n",
        "    top_degreeU.append((k, degree_centrality[k]))\n",
        "  elif k[:5] == 'anime' and a < num_tops:\n",
        "    a += 1\n",
        "    top_degreeA.append((k, degree_centrality[k]))\n",
        "  if u == num_tops and a == num_tops:\n",
        "    break"
      ],
      "metadata": {
        "id": "9pP9hLlgeN5w"
      },
      "execution_count": null,
      "outputs": []
    },
    {
      "cell_type": "code",
      "source": [
        "print('Top users:')\n",
        "for k,v in top_degreeU:\n",
        "  print('{}    {}'.format(k,v))\n",
        "\n",
        "print('--------------\\n')\n",
        "\n",
        "print('Top anime:')\n",
        "for k,v in top_degreeA:\n",
        "  print('{}    {}'.format(k,v))"
      ],
      "metadata": {
        "colab": {
          "base_uri": "https://localhost:8080/"
        },
        "id": "Jh-_nQtwePXo",
        "outputId": "956694c7-6f95-4b9e-d11f-1b7c06a8721e"
      },
      "execution_count": null,
      "outputs": [
        {
          "output_type": "stream",
          "name": "stdout",
          "text": [
            "Top users:\n",
            "user_7345    0.34361295798557084\n",
            "user_1530    0.22407695572216724\n",
            "user_2951    0.1997453670957703\n",
            "user_8217    0.1984722025746216\n",
            "user_8115    0.18927712547743672\n",
            "user_7114    0.17357476304993635\n",
            "user_6569    0.16805771679162543\n",
            "user_7511    0.1669260149950488\n",
            "user_7247    0.16353090960531902\n",
            "user_5310    0.16324798415617486\n",
            "--------------\n",
            "\n",
            "Top anime:\n",
            "anime_1535    0.46400179151270854\n",
            "anime_1575    0.34453028776172884\n",
            "anime_16498    0.3396036278132348\n",
            "anime_11757    0.3334453028776173\n",
            "anime_226    0.33154182062479004\n",
            "anime_121    0.30925988131228305\n",
            "anime_2904    0.30814018586944353\n",
            "anime_20    0.30287761728809764\n",
            "anime_6547    0.28182734296271417\n",
            "anime_4224    0.2757809875713806\n"
          ]
        }
      ]
    },
    {
      "cell_type": "markdown",
      "source": [
        "### 1.4 Top anime Comparison"
      ],
      "metadata": {
        "id": "5vlMNREFUh-i"
      }
    },
    {
      "cell_type": "code",
      "source": [
        "df_anime.sort_values(by=['rating'], ascending=False).iloc[:10, 5]"
      ],
      "metadata": {
        "id": "2jTIq3dSeQ4M",
        "colab": {
          "base_uri": "https://localhost:8080/"
        },
        "outputId": "bd7265b9-2979-4403-f6a6-1e1f5f982f65"
      },
      "execution_count": null,
      "outputs": [
        {
          "output_type": "execute_result",
          "data": {
            "text/plain": [
              "10464    10.00\n",
              "10400     9.60\n",
              "9595      9.50\n",
              "0         9.37\n",
              "9078      9.33\n",
              "1         9.26\n",
              "2         9.25\n",
              "10786     9.25\n",
              "3         9.17\n",
              "4         9.16\n",
              "Name: rating, dtype: float64"
            ]
          },
          "metadata": {},
          "execution_count": 46
        }
      ]
    },
    {
      "cell_type": "code",
      "source": [
        "prefA_r = []\n",
        "for i in df_anime.sort_values(by=['rating'], ascending=False).iloc[:10, 5].index:\n",
        "  name = df_anime.at[i, 'name']\n",
        "  prefA_r.append(name)"
      ],
      "metadata": {
        "id": "a6wD6F27UrN9"
      },
      "execution_count": null,
      "outputs": []
    },
    {
      "cell_type": "code",
      "source": [
        "df_anime.sort_values(by=['members'], ascending=False).iloc[:10, 6]"
      ],
      "metadata": {
        "colab": {
          "base_uri": "https://localhost:8080/"
        },
        "id": "6c_pC2ydUtpC",
        "outputId": "c254a451-7feb-40b2-e554-cad6080a9519"
      },
      "execution_count": null,
      "outputs": [
        {
          "output_type": "execute_result",
          "data": {
            "text/plain": [
              "40     1013917\n",
              "86      896229\n",
              "804     893100\n",
              "1       793665\n",
              "159     717796\n",
              "19      715151\n",
              "841     683297\n",
              "3       673572\n",
              "445     657190\n",
              "131     633817\n",
              "Name: members, dtype: int64"
            ]
          },
          "metadata": {},
          "execution_count": 48
        }
      ]
    },
    {
      "cell_type": "code",
      "source": [
        "prefA_m = []\n",
        "for i in df_anime.sort_values(by=['members'], ascending=False).iloc[:10, 6].index:\n",
        "  name = df_anime.at[i, 'name']\n",
        "  prefA_m.append(name)"
      ],
      "metadata": {
        "id": "_1KUotoCUwbi"
      },
      "execution_count": null,
      "outputs": []
    },
    {
      "cell_type": "markdown",
      "source": [
        "### 1.5 Final considerations"
      ],
      "metadata": {
        "id": "5ksrVocpUye0"
      }
    },
    {
      "cell_type": "code",
      "source": [
        "# Load data\n",
        "degree = pd.read_csv('./degree.csv', names=['ids', 'score'])\n",
        "degreeB = pd.read_csv('./degreeB.csv', names=['ids', 'score'])\n",
        "closeness = pd.read_csv('./closeness.csv', names=['ids', 'score'])\n",
        "closenessW = pd.read_csv('./closenessW.csv', names=['ids', 'score'])\n",
        "closenessFW = pd.read_csv('./closenessFW.csv', names=['ids', 'score'])"
      ],
      "metadata": {
        "id": "AiZHjBxlUzrH"
      },
      "execution_count": null,
      "outputs": []
    },
    {
      "cell_type": "code",
      "source": [
        "def retrieve_topK(df, df_description, num_tops):\n",
        "  u = 0 #top users\n",
        "  a = 0 #top anime\n",
        "\n",
        "  topU = []\n",
        "  topA = []\n",
        "\n",
        "  for k in df['ids'].to_list():\n",
        "    if k[:4] == 'user' and u < num_tops:\n",
        "      u += 1\n",
        "      topU.append(k)\n",
        "    elif k[:5] == 'anime' and a < num_tops:\n",
        "      a += 1\n",
        "\n",
        "      i = df_description[df_description['anime_id'] == int(k[6:])].index[0]\n",
        "      name = df_description.at[i, 'name']\n",
        "\n",
        "      topA.append(name)\n",
        "    if u == num_tops and a == num_tops:\n",
        "      break\n",
        "\n",
        "  return [topU, topA]"
      ],
      "metadata": {
        "id": "Zo6QkF6BU-fJ"
      },
      "execution_count": null,
      "outputs": []
    },
    {
      "cell_type": "code",
      "source": [
        "d_u = defaultdict()\n",
        "d_a = defaultdict()\n",
        "\n",
        "# degree\n",
        "topU, topA = retrieve_topK(degree, df_anime, num_tops)\n",
        "d_u['degree'] = topU\n",
        "d_a['degree'] = topA\n",
        "\n",
        "# degree B\n",
        "topU, topA = retrieve_topK(degreeB, df_anime, num_tops)\n",
        "d_u['degree B'] = topU\n",
        "d_a['degree B'] = topA\n",
        "\n",
        "# closeness\n",
        "topU, topA = retrieve_topK(closeness, df_anime, num_tops)\n",
        "d_u['closeness'] = topU\n",
        "d_a['closeness'] = topA\n",
        "\n",
        "# closeness W\n",
        "topU, topA = retrieve_topK(closenessW, df_anime, num_tops)\n",
        "d_u['closeness W'] = topU\n",
        "d_a['closeness W'] = topA\n",
        "\n",
        "# closeness FW\n",
        "topU, topA = retrieve_topK(closenessFW, df_anime, num_tops)\n",
        "d_u['closeness FW'] = topU\n",
        "d_a['closeness FW'] = topA\n",
        "\n",
        "# global average ranking\n",
        "d_a['global avg rank'] = prefA_r\n",
        "\n",
        "# members\n",
        "d_a['members'] = prefA_m\n"
      ],
      "metadata": {
        "id": "AZeubXT8VBMR"
      },
      "execution_count": null,
      "outputs": []
    },
    {
      "cell_type": "code",
      "source": [
        "df_top_anime = pd.DataFrame(d_a)\n",
        "df_top_user = pd.DataFrame(d_u)"
      ],
      "metadata": {
        "id": "PRzGKo16VHDv"
      },
      "execution_count": null,
      "outputs": []
    },
    {
      "cell_type": "markdown",
      "source": [
        "**Top-k users rankings**"
      ],
      "metadata": {
        "id": "tRcRKir-VLPv"
      }
    },
    {
      "cell_type": "code",
      "source": [
        "df_top_user"
      ],
      "metadata": {
        "colab": {
          "base_uri": "https://localhost:8080/",
          "height": 363
        },
        "id": "FWYK1FuNVMhx",
        "outputId": "71ab2c52-5112-4fd6-ef93-0461253b6944"
      },
      "execution_count": null,
      "outputs": [
        {
          "output_type": "execute_result",
          "data": {
            "text/plain": [
              "      degree   degree B  closeness closeness W closeness FW\n",
              "0  user_7345  user_7345  user_7345      user_5    user_6969\n",
              "1  user_1530  user_1530  user_5310   user_5137    user_6299\n",
              "2  user_2951  user_2951  user_7366   user_6869    user_3657\n",
              "3  user_8217  user_8217  user_6869   user_4512    user_7114\n",
              "4  user_8115  user_8115  user_7114   user_4168    user_6162\n",
              "5  user_7114  user_7114  user_8115    user_271    user_7347\n",
              "6  user_6569  user_6569  user_5669   user_6618    user_2873\n",
              "7  user_7511  user_7511  user_5908   user_3925    user_6152\n",
              "8  user_7247  user_7247  user_6474   user_1938    user_8001\n",
              "9  user_5310  user_5310  user_1497     user_99    user_7716"
            ],
            "text/html": [
              "\n",
              "  <div id=\"df-52107a36-be52-4b84-a7a3-b76ab2925edc\" class=\"colab-df-container\">\n",
              "    <div>\n",
              "<style scoped>\n",
              "    .dataframe tbody tr th:only-of-type {\n",
              "        vertical-align: middle;\n",
              "    }\n",
              "\n",
              "    .dataframe tbody tr th {\n",
              "        vertical-align: top;\n",
              "    }\n",
              "\n",
              "    .dataframe thead th {\n",
              "        text-align: right;\n",
              "    }\n",
              "</style>\n",
              "<table border=\"1\" class=\"dataframe\">\n",
              "  <thead>\n",
              "    <tr style=\"text-align: right;\">\n",
              "      <th></th>\n",
              "      <th>degree</th>\n",
              "      <th>degree B</th>\n",
              "      <th>closeness</th>\n",
              "      <th>closeness W</th>\n",
              "      <th>closeness FW</th>\n",
              "    </tr>\n",
              "  </thead>\n",
              "  <tbody>\n",
              "    <tr>\n",
              "      <th>0</th>\n",
              "      <td>user_7345</td>\n",
              "      <td>user_7345</td>\n",
              "      <td>user_7345</td>\n",
              "      <td>user_5</td>\n",
              "      <td>user_6969</td>\n",
              "    </tr>\n",
              "    <tr>\n",
              "      <th>1</th>\n",
              "      <td>user_1530</td>\n",
              "      <td>user_1530</td>\n",
              "      <td>user_5310</td>\n",
              "      <td>user_5137</td>\n",
              "      <td>user_6299</td>\n",
              "    </tr>\n",
              "    <tr>\n",
              "      <th>2</th>\n",
              "      <td>user_2951</td>\n",
              "      <td>user_2951</td>\n",
              "      <td>user_7366</td>\n",
              "      <td>user_6869</td>\n",
              "      <td>user_3657</td>\n",
              "    </tr>\n",
              "    <tr>\n",
              "      <th>3</th>\n",
              "      <td>user_8217</td>\n",
              "      <td>user_8217</td>\n",
              "      <td>user_6869</td>\n",
              "      <td>user_4512</td>\n",
              "      <td>user_7114</td>\n",
              "    </tr>\n",
              "    <tr>\n",
              "      <th>4</th>\n",
              "      <td>user_8115</td>\n",
              "      <td>user_8115</td>\n",
              "      <td>user_7114</td>\n",
              "      <td>user_4168</td>\n",
              "      <td>user_6162</td>\n",
              "    </tr>\n",
              "    <tr>\n",
              "      <th>5</th>\n",
              "      <td>user_7114</td>\n",
              "      <td>user_7114</td>\n",
              "      <td>user_8115</td>\n",
              "      <td>user_271</td>\n",
              "      <td>user_7347</td>\n",
              "    </tr>\n",
              "    <tr>\n",
              "      <th>6</th>\n",
              "      <td>user_6569</td>\n",
              "      <td>user_6569</td>\n",
              "      <td>user_5669</td>\n",
              "      <td>user_6618</td>\n",
              "      <td>user_2873</td>\n",
              "    </tr>\n",
              "    <tr>\n",
              "      <th>7</th>\n",
              "      <td>user_7511</td>\n",
              "      <td>user_7511</td>\n",
              "      <td>user_5908</td>\n",
              "      <td>user_3925</td>\n",
              "      <td>user_6152</td>\n",
              "    </tr>\n",
              "    <tr>\n",
              "      <th>8</th>\n",
              "      <td>user_7247</td>\n",
              "      <td>user_7247</td>\n",
              "      <td>user_6474</td>\n",
              "      <td>user_1938</td>\n",
              "      <td>user_8001</td>\n",
              "    </tr>\n",
              "    <tr>\n",
              "      <th>9</th>\n",
              "      <td>user_5310</td>\n",
              "      <td>user_5310</td>\n",
              "      <td>user_1497</td>\n",
              "      <td>user_99</td>\n",
              "      <td>user_7716</td>\n",
              "    </tr>\n",
              "  </tbody>\n",
              "</table>\n",
              "</div>\n",
              "    <div class=\"colab-df-buttons\">\n",
              "\n",
              "  <div class=\"colab-df-container\">\n",
              "    <button class=\"colab-df-convert\" onclick=\"convertToInteractive('df-52107a36-be52-4b84-a7a3-b76ab2925edc')\"\n",
              "            title=\"Convert this dataframe to an interactive table.\"\n",
              "            style=\"display:none;\">\n",
              "\n",
              "  <svg xmlns=\"http://www.w3.org/2000/svg\" height=\"24px\" viewBox=\"0 -960 960 960\">\n",
              "    <path d=\"M120-120v-720h720v720H120Zm60-500h600v-160H180v160Zm220 220h160v-160H400v160Zm0 220h160v-160H400v160ZM180-400h160v-160H180v160Zm440 0h160v-160H620v160ZM180-180h160v-160H180v160Zm440 0h160v-160H620v160Z\"/>\n",
              "  </svg>\n",
              "    </button>\n",
              "\n",
              "  <style>\n",
              "    .colab-df-container {\n",
              "      display:flex;\n",
              "      gap: 12px;\n",
              "    }\n",
              "\n",
              "    .colab-df-convert {\n",
              "      background-color: #E8F0FE;\n",
              "      border: none;\n",
              "      border-radius: 50%;\n",
              "      cursor: pointer;\n",
              "      display: none;\n",
              "      fill: #1967D2;\n",
              "      height: 32px;\n",
              "      padding: 0 0 0 0;\n",
              "      width: 32px;\n",
              "    }\n",
              "\n",
              "    .colab-df-convert:hover {\n",
              "      background-color: #E2EBFA;\n",
              "      box-shadow: 0px 1px 2px rgba(60, 64, 67, 0.3), 0px 1px 3px 1px rgba(60, 64, 67, 0.15);\n",
              "      fill: #174EA6;\n",
              "    }\n",
              "\n",
              "    .colab-df-buttons div {\n",
              "      margin-bottom: 4px;\n",
              "    }\n",
              "\n",
              "    [theme=dark] .colab-df-convert {\n",
              "      background-color: #3B4455;\n",
              "      fill: #D2E3FC;\n",
              "    }\n",
              "\n",
              "    [theme=dark] .colab-df-convert:hover {\n",
              "      background-color: #434B5C;\n",
              "      box-shadow: 0px 1px 3px 1px rgba(0, 0, 0, 0.15);\n",
              "      filter: drop-shadow(0px 1px 2px rgba(0, 0, 0, 0.3));\n",
              "      fill: #FFFFFF;\n",
              "    }\n",
              "  </style>\n",
              "\n",
              "    <script>\n",
              "      const buttonEl =\n",
              "        document.querySelector('#df-52107a36-be52-4b84-a7a3-b76ab2925edc button.colab-df-convert');\n",
              "      buttonEl.style.display =\n",
              "        google.colab.kernel.accessAllowed ? 'block' : 'none';\n",
              "\n",
              "      async function convertToInteractive(key) {\n",
              "        const element = document.querySelector('#df-52107a36-be52-4b84-a7a3-b76ab2925edc');\n",
              "        const dataTable =\n",
              "          await google.colab.kernel.invokeFunction('convertToInteractive',\n",
              "                                                    [key], {});\n",
              "        if (!dataTable) return;\n",
              "\n",
              "        const docLinkHtml = 'Like what you see? Visit the ' +\n",
              "          '<a target=\"_blank\" href=https://colab.research.google.com/notebooks/data_table.ipynb>data table notebook</a>'\n",
              "          + ' to learn more about interactive tables.';\n",
              "        element.innerHTML = '';\n",
              "        dataTable['output_type'] = 'display_data';\n",
              "        await google.colab.output.renderOutput(dataTable, element);\n",
              "        const docLink = document.createElement('div');\n",
              "        docLink.innerHTML = docLinkHtml;\n",
              "        element.appendChild(docLink);\n",
              "      }\n",
              "    </script>\n",
              "  </div>\n",
              "\n",
              "\n",
              "<div id=\"df-658bae19-2b00-4cc6-8693-8c84627d6587\">\n",
              "  <button class=\"colab-df-quickchart\" onclick=\"quickchart('df-658bae19-2b00-4cc6-8693-8c84627d6587')\"\n",
              "            title=\"Suggest charts\"\n",
              "            style=\"display:none;\">\n",
              "\n",
              "<svg xmlns=\"http://www.w3.org/2000/svg\" height=\"24px\"viewBox=\"0 0 24 24\"\n",
              "     width=\"24px\">\n",
              "    <g>\n",
              "        <path d=\"M19 3H5c-1.1 0-2 .9-2 2v14c0 1.1.9 2 2 2h14c1.1 0 2-.9 2-2V5c0-1.1-.9-2-2-2zM9 17H7v-7h2v7zm4 0h-2V7h2v10zm4 0h-2v-4h2v4z\"/>\n",
              "    </g>\n",
              "</svg>\n",
              "  </button>\n",
              "\n",
              "<style>\n",
              "  .colab-df-quickchart {\n",
              "      --bg-color: #E8F0FE;\n",
              "      --fill-color: #1967D2;\n",
              "      --hover-bg-color: #E2EBFA;\n",
              "      --hover-fill-color: #174EA6;\n",
              "      --disabled-fill-color: #AAA;\n",
              "      --disabled-bg-color: #DDD;\n",
              "  }\n",
              "\n",
              "  [theme=dark] .colab-df-quickchart {\n",
              "      --bg-color: #3B4455;\n",
              "      --fill-color: #D2E3FC;\n",
              "      --hover-bg-color: #434B5C;\n",
              "      --hover-fill-color: #FFFFFF;\n",
              "      --disabled-bg-color: #3B4455;\n",
              "      --disabled-fill-color: #666;\n",
              "  }\n",
              "\n",
              "  .colab-df-quickchart {\n",
              "    background-color: var(--bg-color);\n",
              "    border: none;\n",
              "    border-radius: 50%;\n",
              "    cursor: pointer;\n",
              "    display: none;\n",
              "    fill: var(--fill-color);\n",
              "    height: 32px;\n",
              "    padding: 0;\n",
              "    width: 32px;\n",
              "  }\n",
              "\n",
              "  .colab-df-quickchart:hover {\n",
              "    background-color: var(--hover-bg-color);\n",
              "    box-shadow: 0 1px 2px rgba(60, 64, 67, 0.3), 0 1px 3px 1px rgba(60, 64, 67, 0.15);\n",
              "    fill: var(--button-hover-fill-color);\n",
              "  }\n",
              "\n",
              "  .colab-df-quickchart-complete:disabled,\n",
              "  .colab-df-quickchart-complete:disabled:hover {\n",
              "    background-color: var(--disabled-bg-color);\n",
              "    fill: var(--disabled-fill-color);\n",
              "    box-shadow: none;\n",
              "  }\n",
              "\n",
              "  .colab-df-spinner {\n",
              "    border: 2px solid var(--fill-color);\n",
              "    border-color: transparent;\n",
              "    border-bottom-color: var(--fill-color);\n",
              "    animation:\n",
              "      spin 1s steps(1) infinite;\n",
              "  }\n",
              "\n",
              "  @keyframes spin {\n",
              "    0% {\n",
              "      border-color: transparent;\n",
              "      border-bottom-color: var(--fill-color);\n",
              "      border-left-color: var(--fill-color);\n",
              "    }\n",
              "    20% {\n",
              "      border-color: transparent;\n",
              "      border-left-color: var(--fill-color);\n",
              "      border-top-color: var(--fill-color);\n",
              "    }\n",
              "    30% {\n",
              "      border-color: transparent;\n",
              "      border-left-color: var(--fill-color);\n",
              "      border-top-color: var(--fill-color);\n",
              "      border-right-color: var(--fill-color);\n",
              "    }\n",
              "    40% {\n",
              "      border-color: transparent;\n",
              "      border-right-color: var(--fill-color);\n",
              "      border-top-color: var(--fill-color);\n",
              "    }\n",
              "    60% {\n",
              "      border-color: transparent;\n",
              "      border-right-color: var(--fill-color);\n",
              "    }\n",
              "    80% {\n",
              "      border-color: transparent;\n",
              "      border-right-color: var(--fill-color);\n",
              "      border-bottom-color: var(--fill-color);\n",
              "    }\n",
              "    90% {\n",
              "      border-color: transparent;\n",
              "      border-bottom-color: var(--fill-color);\n",
              "    }\n",
              "  }\n",
              "</style>\n",
              "\n",
              "  <script>\n",
              "    async function quickchart(key) {\n",
              "      const quickchartButtonEl =\n",
              "        document.querySelector('#' + key + ' button');\n",
              "      quickchartButtonEl.disabled = true;  // To prevent multiple clicks.\n",
              "      quickchartButtonEl.classList.add('colab-df-spinner');\n",
              "      try {\n",
              "        const charts = await google.colab.kernel.invokeFunction(\n",
              "            'suggestCharts', [key], {});\n",
              "      } catch (error) {\n",
              "        console.error('Error during call to suggestCharts:', error);\n",
              "      }\n",
              "      quickchartButtonEl.classList.remove('colab-df-spinner');\n",
              "      quickchartButtonEl.classList.add('colab-df-quickchart-complete');\n",
              "    }\n",
              "    (() => {\n",
              "      let quickchartButtonEl =\n",
              "        document.querySelector('#df-658bae19-2b00-4cc6-8693-8c84627d6587 button');\n",
              "      quickchartButtonEl.style.display =\n",
              "        google.colab.kernel.accessAllowed ? 'block' : 'none';\n",
              "    })();\n",
              "  </script>\n",
              "</div>\n",
              "\n",
              "  <div id=\"id_9074ed98-90ce-4be1-8923-74309e2df837\">\n",
              "    <style>\n",
              "      .colab-df-generate {\n",
              "        background-color: #E8F0FE;\n",
              "        border: none;\n",
              "        border-radius: 50%;\n",
              "        cursor: pointer;\n",
              "        display: none;\n",
              "        fill: #1967D2;\n",
              "        height: 32px;\n",
              "        padding: 0 0 0 0;\n",
              "        width: 32px;\n",
              "      }\n",
              "\n",
              "      .colab-df-generate:hover {\n",
              "        background-color: #E2EBFA;\n",
              "        box-shadow: 0px 1px 2px rgba(60, 64, 67, 0.3), 0px 1px 3px 1px rgba(60, 64, 67, 0.15);\n",
              "        fill: #174EA6;\n",
              "      }\n",
              "\n",
              "      [theme=dark] .colab-df-generate {\n",
              "        background-color: #3B4455;\n",
              "        fill: #D2E3FC;\n",
              "      }\n",
              "\n",
              "      [theme=dark] .colab-df-generate:hover {\n",
              "        background-color: #434B5C;\n",
              "        box-shadow: 0px 1px 3px 1px rgba(0, 0, 0, 0.15);\n",
              "        filter: drop-shadow(0px 1px 2px rgba(0, 0, 0, 0.3));\n",
              "        fill: #FFFFFF;\n",
              "      }\n",
              "    </style>\n",
              "    <button class=\"colab-df-generate\" onclick=\"generateWithVariable('df_top_user')\"\n",
              "            title=\"Generate code using this dataframe.\"\n",
              "            style=\"display:none;\">\n",
              "\n",
              "  <svg xmlns=\"http://www.w3.org/2000/svg\" height=\"24px\"viewBox=\"0 0 24 24\"\n",
              "       width=\"24px\">\n",
              "    <path d=\"M7,19H8.4L18.45,9,17,7.55,7,17.6ZM5,21V16.75L18.45,3.32a2,2,0,0,1,2.83,0l1.4,1.43a1.91,1.91,0,0,1,.58,1.4,1.91,1.91,0,0,1-.58,1.4L9.25,21ZM18.45,9,17,7.55Zm-12,3A5.31,5.31,0,0,0,4.9,8.1,5.31,5.31,0,0,0,1,6.5,5.31,5.31,0,0,0,4.9,4.9,5.31,5.31,0,0,0,6.5,1,5.31,5.31,0,0,0,8.1,4.9,5.31,5.31,0,0,0,12,6.5,5.46,5.46,0,0,0,6.5,12Z\"/>\n",
              "  </svg>\n",
              "    </button>\n",
              "    <script>\n",
              "      (() => {\n",
              "      const buttonEl =\n",
              "        document.querySelector('#id_9074ed98-90ce-4be1-8923-74309e2df837 button.colab-df-generate');\n",
              "      buttonEl.style.display =\n",
              "        google.colab.kernel.accessAllowed ? 'block' : 'none';\n",
              "\n",
              "      buttonEl.onclick = () => {\n",
              "        google.colab.notebook.generateWithVariable('df_top_user');\n",
              "      }\n",
              "      })();\n",
              "    </script>\n",
              "  </div>\n",
              "\n",
              "    </div>\n",
              "  </div>\n"
            ],
            "application/vnd.google.colaboratory.intrinsic+json": {
              "type": "dataframe",
              "variable_name": "df_top_user",
              "summary": "{\n  \"name\": \"df_top_user\",\n  \"rows\": 10,\n  \"fields\": [\n    {\n      \"column\": \"degree\",\n      \"properties\": {\n        \"dtype\": \"string\",\n        \"num_unique_values\": 10,\n        \"samples\": [\n          \"user_7247\",\n          \"user_1530\",\n          \"user_7114\"\n        ],\n        \"semantic_type\": \"\",\n        \"description\": \"\"\n      }\n    },\n    {\n      \"column\": \"degree B\",\n      \"properties\": {\n        \"dtype\": \"string\",\n        \"num_unique_values\": 10,\n        \"samples\": [\n          \"user_7247\",\n          \"user_1530\",\n          \"user_7114\"\n        ],\n        \"semantic_type\": \"\",\n        \"description\": \"\"\n      }\n    },\n    {\n      \"column\": \"closeness\",\n      \"properties\": {\n        \"dtype\": \"string\",\n        \"num_unique_values\": 10,\n        \"samples\": [\n          \"user_6474\",\n          \"user_5310\",\n          \"user_8115\"\n        ],\n        \"semantic_type\": \"\",\n        \"description\": \"\"\n      }\n    },\n    {\n      \"column\": \"closeness W\",\n      \"properties\": {\n        \"dtype\": \"string\",\n        \"num_unique_values\": 10,\n        \"samples\": [\n          \"user_1938\",\n          \"user_5137\",\n          \"user_271\"\n        ],\n        \"semantic_type\": \"\",\n        \"description\": \"\"\n      }\n    },\n    {\n      \"column\": \"closeness FW\",\n      \"properties\": {\n        \"dtype\": \"string\",\n        \"num_unique_values\": 10,\n        \"samples\": [\n          \"user_8001\",\n          \"user_6299\",\n          \"user_7347\"\n        ],\n        \"semantic_type\": \"\",\n        \"description\": \"\"\n      }\n    }\n  ]\n}"
            }
          },
          "metadata": {},
          "execution_count": 55
        }
      ]
    },
    {
      "cell_type": "markdown",
      "source": [
        " **Top-k anime rankings**"
      ],
      "metadata": {
        "id": "6Jfrz9TIVeD_"
      }
    },
    {
      "cell_type": "code",
      "source": [
        "df_top_anime"
      ],
      "metadata": {
        "colab": {
          "base_uri": "https://localhost:8080/",
          "height": 675
        },
        "id": "eHK08jBxVf_m",
        "outputId": "b48c84d4-479f-4a52-d919-2495dc5a9c9d"
      },
      "execution_count": null,
      "outputs": [
        {
          "output_type": "execute_result",
          "data": {
            "text/plain": [
              "                               degree                            degree B  \\\n",
              "0                          Death Note                          Death Note   \n",
              "1     Code Geass: Hangyaku no Lelouch     Code Geass: Hangyaku no Lelouch   \n",
              "2                  Shingeki no Kyojin                  Shingeki no Kyojin   \n",
              "3                    Sword Art Online                    Sword Art Online   \n",
              "4                          Elfen Lied                          Elfen Lied   \n",
              "5                 Fullmetal Alchemist                 Fullmetal Alchemist   \n",
              "6  Code Geass: Hangyaku no Lelouch R2  Code Geass: Hangyaku no Lelouch R2   \n",
              "7                              Naruto                              Naruto   \n",
              "8                        Angel Beats!                        Angel Beats!   \n",
              "9                           Toradora!                           Toradora!   \n",
              "\n",
              "                            closeness  \\\n",
              "0                          Death Note   \n",
              "1                    Sword Art Online   \n",
              "2                          Elfen Lied   \n",
              "3                              Naruto   \n",
              "4     Code Geass: Hangyaku no Lelouch   \n",
              "5                  Shingeki no Kyojin   \n",
              "6             Neon Genesis Evangelion   \n",
              "7                           Toradora!   \n",
              "8  Code Geass: Hangyaku no Lelouch R2   \n",
              "9                          Soul Eater   \n",
              "\n",
              "                                         closeness W  \\\n",
              "0                                               Pupa   \n",
              "1                                    Hametsu no Mars   \n",
              "2                                              Isuca   \n",
              "3                                        School Days   \n",
              "4                                Seikoku no Dragonar   \n",
              "5                                     Dragon Ball GT   \n",
              "6  Kono Naka ni Hitori, Imouto ga Iru!: Ani, Imou...   \n",
              "7                          Inari, Konkon, Koi Iroha.   \n",
              "8  Ore no Imouto ga Konnani Kawaii Wake ga Nai. S...   \n",
              "9                                         ChäoS;HEAd   \n",
              "\n",
              "                         closeness FW  \\\n",
              "0                          Death Note   \n",
              "1  Code Geass: Hangyaku no Lelouch R2   \n",
              "2     Code Geass: Hangyaku no Lelouch   \n",
              "3       Sen to Chihiro no Kamikakushi   \n",
              "4                         Steins;Gate   \n",
              "5    Fullmetal Alchemist: Brotherhood   \n",
              "6                           Toradora!   \n",
              "7          Tengen Toppa Gurren Lagann   \n",
              "8                  Shingeki no Kyojin   \n",
              "9                 Fullmetal Alchemist   \n",
              "\n",
              "                           global avg rank                           members  \n",
              "0  Taka no Tsume 8: Yoshida-kun no X-Files                        Death Note  \n",
              "1              Spoon-hime no Swing Kitchen                Shingeki no Kyojin  \n",
              "2                         Mogura no Motoro                  Sword Art Online  \n",
              "3                           Kimi no Na wa.  Fullmetal Alchemist: Brotherhood  \n",
              "4                             Kahei no Umi                      Angel Beats!  \n",
              "5         Fullmetal Alchemist: Brotherhood   Code Geass: Hangyaku no Lelouch  \n",
              "6                                 Gintama°                            Naruto  \n",
              "7          Yakusoku: Africa Mizu to Midori                       Steins;Gate  \n",
              "8                              Steins;Gate                  Mirai Nikki (TV)  \n",
              "9                            Gintama&#039;                         Toradora!  "
            ],
            "text/html": [
              "\n",
              "  <div id=\"df-c26f58f3-3dac-459a-8e26-0aae1a952870\" class=\"colab-df-container\">\n",
              "    <div>\n",
              "<style scoped>\n",
              "    .dataframe tbody tr th:only-of-type {\n",
              "        vertical-align: middle;\n",
              "    }\n",
              "\n",
              "    .dataframe tbody tr th {\n",
              "        vertical-align: top;\n",
              "    }\n",
              "\n",
              "    .dataframe thead th {\n",
              "        text-align: right;\n",
              "    }\n",
              "</style>\n",
              "<table border=\"1\" class=\"dataframe\">\n",
              "  <thead>\n",
              "    <tr style=\"text-align: right;\">\n",
              "      <th></th>\n",
              "      <th>degree</th>\n",
              "      <th>degree B</th>\n",
              "      <th>closeness</th>\n",
              "      <th>closeness W</th>\n",
              "      <th>closeness FW</th>\n",
              "      <th>global avg rank</th>\n",
              "      <th>members</th>\n",
              "    </tr>\n",
              "  </thead>\n",
              "  <tbody>\n",
              "    <tr>\n",
              "      <th>0</th>\n",
              "      <td>Death Note</td>\n",
              "      <td>Death Note</td>\n",
              "      <td>Death Note</td>\n",
              "      <td>Pupa</td>\n",
              "      <td>Death Note</td>\n",
              "      <td>Taka no Tsume 8: Yoshida-kun no X-Files</td>\n",
              "      <td>Death Note</td>\n",
              "    </tr>\n",
              "    <tr>\n",
              "      <th>1</th>\n",
              "      <td>Code Geass: Hangyaku no Lelouch</td>\n",
              "      <td>Code Geass: Hangyaku no Lelouch</td>\n",
              "      <td>Sword Art Online</td>\n",
              "      <td>Hametsu no Mars</td>\n",
              "      <td>Code Geass: Hangyaku no Lelouch R2</td>\n",
              "      <td>Spoon-hime no Swing Kitchen</td>\n",
              "      <td>Shingeki no Kyojin</td>\n",
              "    </tr>\n",
              "    <tr>\n",
              "      <th>2</th>\n",
              "      <td>Shingeki no Kyojin</td>\n",
              "      <td>Shingeki no Kyojin</td>\n",
              "      <td>Elfen Lied</td>\n",
              "      <td>Isuca</td>\n",
              "      <td>Code Geass: Hangyaku no Lelouch</td>\n",
              "      <td>Mogura no Motoro</td>\n",
              "      <td>Sword Art Online</td>\n",
              "    </tr>\n",
              "    <tr>\n",
              "      <th>3</th>\n",
              "      <td>Sword Art Online</td>\n",
              "      <td>Sword Art Online</td>\n",
              "      <td>Naruto</td>\n",
              "      <td>School Days</td>\n",
              "      <td>Sen to Chihiro no Kamikakushi</td>\n",
              "      <td>Kimi no Na wa.</td>\n",
              "      <td>Fullmetal Alchemist: Brotherhood</td>\n",
              "    </tr>\n",
              "    <tr>\n",
              "      <th>4</th>\n",
              "      <td>Elfen Lied</td>\n",
              "      <td>Elfen Lied</td>\n",
              "      <td>Code Geass: Hangyaku no Lelouch</td>\n",
              "      <td>Seikoku no Dragonar</td>\n",
              "      <td>Steins;Gate</td>\n",
              "      <td>Kahei no Umi</td>\n",
              "      <td>Angel Beats!</td>\n",
              "    </tr>\n",
              "    <tr>\n",
              "      <th>5</th>\n",
              "      <td>Fullmetal Alchemist</td>\n",
              "      <td>Fullmetal Alchemist</td>\n",
              "      <td>Shingeki no Kyojin</td>\n",
              "      <td>Dragon Ball GT</td>\n",
              "      <td>Fullmetal Alchemist: Brotherhood</td>\n",
              "      <td>Fullmetal Alchemist: Brotherhood</td>\n",
              "      <td>Code Geass: Hangyaku no Lelouch</td>\n",
              "    </tr>\n",
              "    <tr>\n",
              "      <th>6</th>\n",
              "      <td>Code Geass: Hangyaku no Lelouch R2</td>\n",
              "      <td>Code Geass: Hangyaku no Lelouch R2</td>\n",
              "      <td>Neon Genesis Evangelion</td>\n",
              "      <td>Kono Naka ni Hitori, Imouto ga Iru!: Ani, Imou...</td>\n",
              "      <td>Toradora!</td>\n",
              "      <td>Gintama°</td>\n",
              "      <td>Naruto</td>\n",
              "    </tr>\n",
              "    <tr>\n",
              "      <th>7</th>\n",
              "      <td>Naruto</td>\n",
              "      <td>Naruto</td>\n",
              "      <td>Toradora!</td>\n",
              "      <td>Inari, Konkon, Koi Iroha.</td>\n",
              "      <td>Tengen Toppa Gurren Lagann</td>\n",
              "      <td>Yakusoku: Africa Mizu to Midori</td>\n",
              "      <td>Steins;Gate</td>\n",
              "    </tr>\n",
              "    <tr>\n",
              "      <th>8</th>\n",
              "      <td>Angel Beats!</td>\n",
              "      <td>Angel Beats!</td>\n",
              "      <td>Code Geass: Hangyaku no Lelouch R2</td>\n",
              "      <td>Ore no Imouto ga Konnani Kawaii Wake ga Nai. S...</td>\n",
              "      <td>Shingeki no Kyojin</td>\n",
              "      <td>Steins;Gate</td>\n",
              "      <td>Mirai Nikki (TV)</td>\n",
              "    </tr>\n",
              "    <tr>\n",
              "      <th>9</th>\n",
              "      <td>Toradora!</td>\n",
              "      <td>Toradora!</td>\n",
              "      <td>Soul Eater</td>\n",
              "      <td>ChäoS;HEAd</td>\n",
              "      <td>Fullmetal Alchemist</td>\n",
              "      <td>Gintama&amp;#039;</td>\n",
              "      <td>Toradora!</td>\n",
              "    </tr>\n",
              "  </tbody>\n",
              "</table>\n",
              "</div>\n",
              "    <div class=\"colab-df-buttons\">\n",
              "\n",
              "  <div class=\"colab-df-container\">\n",
              "    <button class=\"colab-df-convert\" onclick=\"convertToInteractive('df-c26f58f3-3dac-459a-8e26-0aae1a952870')\"\n",
              "            title=\"Convert this dataframe to an interactive table.\"\n",
              "            style=\"display:none;\">\n",
              "\n",
              "  <svg xmlns=\"http://www.w3.org/2000/svg\" height=\"24px\" viewBox=\"0 -960 960 960\">\n",
              "    <path d=\"M120-120v-720h720v720H120Zm60-500h600v-160H180v160Zm220 220h160v-160H400v160Zm0 220h160v-160H400v160ZM180-400h160v-160H180v160Zm440 0h160v-160H620v160ZM180-180h160v-160H180v160Zm440 0h160v-160H620v160Z\"/>\n",
              "  </svg>\n",
              "    </button>\n",
              "\n",
              "  <style>\n",
              "    .colab-df-container {\n",
              "      display:flex;\n",
              "      gap: 12px;\n",
              "    }\n",
              "\n",
              "    .colab-df-convert {\n",
              "      background-color: #E8F0FE;\n",
              "      border: none;\n",
              "      border-radius: 50%;\n",
              "      cursor: pointer;\n",
              "      display: none;\n",
              "      fill: #1967D2;\n",
              "      height: 32px;\n",
              "      padding: 0 0 0 0;\n",
              "      width: 32px;\n",
              "    }\n",
              "\n",
              "    .colab-df-convert:hover {\n",
              "      background-color: #E2EBFA;\n",
              "      box-shadow: 0px 1px 2px rgba(60, 64, 67, 0.3), 0px 1px 3px 1px rgba(60, 64, 67, 0.15);\n",
              "      fill: #174EA6;\n",
              "    }\n",
              "\n",
              "    .colab-df-buttons div {\n",
              "      margin-bottom: 4px;\n",
              "    }\n",
              "\n",
              "    [theme=dark] .colab-df-convert {\n",
              "      background-color: #3B4455;\n",
              "      fill: #D2E3FC;\n",
              "    }\n",
              "\n",
              "    [theme=dark] .colab-df-convert:hover {\n",
              "      background-color: #434B5C;\n",
              "      box-shadow: 0px 1px 3px 1px rgba(0, 0, 0, 0.15);\n",
              "      filter: drop-shadow(0px 1px 2px rgba(0, 0, 0, 0.3));\n",
              "      fill: #FFFFFF;\n",
              "    }\n",
              "  </style>\n",
              "\n",
              "    <script>\n",
              "      const buttonEl =\n",
              "        document.querySelector('#df-c26f58f3-3dac-459a-8e26-0aae1a952870 button.colab-df-convert');\n",
              "      buttonEl.style.display =\n",
              "        google.colab.kernel.accessAllowed ? 'block' : 'none';\n",
              "\n",
              "      async function convertToInteractive(key) {\n",
              "        const element = document.querySelector('#df-c26f58f3-3dac-459a-8e26-0aae1a952870');\n",
              "        const dataTable =\n",
              "          await google.colab.kernel.invokeFunction('convertToInteractive',\n",
              "                                                    [key], {});\n",
              "        if (!dataTable) return;\n",
              "\n",
              "        const docLinkHtml = 'Like what you see? Visit the ' +\n",
              "          '<a target=\"_blank\" href=https://colab.research.google.com/notebooks/data_table.ipynb>data table notebook</a>'\n",
              "          + ' to learn more about interactive tables.';\n",
              "        element.innerHTML = '';\n",
              "        dataTable['output_type'] = 'display_data';\n",
              "        await google.colab.output.renderOutput(dataTable, element);\n",
              "        const docLink = document.createElement('div');\n",
              "        docLink.innerHTML = docLinkHtml;\n",
              "        element.appendChild(docLink);\n",
              "      }\n",
              "    </script>\n",
              "  </div>\n",
              "\n",
              "\n",
              "<div id=\"df-51d8de2a-5bff-4c40-a874-86fccacf68dc\">\n",
              "  <button class=\"colab-df-quickchart\" onclick=\"quickchart('df-51d8de2a-5bff-4c40-a874-86fccacf68dc')\"\n",
              "            title=\"Suggest charts\"\n",
              "            style=\"display:none;\">\n",
              "\n",
              "<svg xmlns=\"http://www.w3.org/2000/svg\" height=\"24px\"viewBox=\"0 0 24 24\"\n",
              "     width=\"24px\">\n",
              "    <g>\n",
              "        <path d=\"M19 3H5c-1.1 0-2 .9-2 2v14c0 1.1.9 2 2 2h14c1.1 0 2-.9 2-2V5c0-1.1-.9-2-2-2zM9 17H7v-7h2v7zm4 0h-2V7h2v10zm4 0h-2v-4h2v4z\"/>\n",
              "    </g>\n",
              "</svg>\n",
              "  </button>\n",
              "\n",
              "<style>\n",
              "  .colab-df-quickchart {\n",
              "      --bg-color: #E8F0FE;\n",
              "      --fill-color: #1967D2;\n",
              "      --hover-bg-color: #E2EBFA;\n",
              "      --hover-fill-color: #174EA6;\n",
              "      --disabled-fill-color: #AAA;\n",
              "      --disabled-bg-color: #DDD;\n",
              "  }\n",
              "\n",
              "  [theme=dark] .colab-df-quickchart {\n",
              "      --bg-color: #3B4455;\n",
              "      --fill-color: #D2E3FC;\n",
              "      --hover-bg-color: #434B5C;\n",
              "      --hover-fill-color: #FFFFFF;\n",
              "      --disabled-bg-color: #3B4455;\n",
              "      --disabled-fill-color: #666;\n",
              "  }\n",
              "\n",
              "  .colab-df-quickchart {\n",
              "    background-color: var(--bg-color);\n",
              "    border: none;\n",
              "    border-radius: 50%;\n",
              "    cursor: pointer;\n",
              "    display: none;\n",
              "    fill: var(--fill-color);\n",
              "    height: 32px;\n",
              "    padding: 0;\n",
              "    width: 32px;\n",
              "  }\n",
              "\n",
              "  .colab-df-quickchart:hover {\n",
              "    background-color: var(--hover-bg-color);\n",
              "    box-shadow: 0 1px 2px rgba(60, 64, 67, 0.3), 0 1px 3px 1px rgba(60, 64, 67, 0.15);\n",
              "    fill: var(--button-hover-fill-color);\n",
              "  }\n",
              "\n",
              "  .colab-df-quickchart-complete:disabled,\n",
              "  .colab-df-quickchart-complete:disabled:hover {\n",
              "    background-color: var(--disabled-bg-color);\n",
              "    fill: var(--disabled-fill-color);\n",
              "    box-shadow: none;\n",
              "  }\n",
              "\n",
              "  .colab-df-spinner {\n",
              "    border: 2px solid var(--fill-color);\n",
              "    border-color: transparent;\n",
              "    border-bottom-color: var(--fill-color);\n",
              "    animation:\n",
              "      spin 1s steps(1) infinite;\n",
              "  }\n",
              "\n",
              "  @keyframes spin {\n",
              "    0% {\n",
              "      border-color: transparent;\n",
              "      border-bottom-color: var(--fill-color);\n",
              "      border-left-color: var(--fill-color);\n",
              "    }\n",
              "    20% {\n",
              "      border-color: transparent;\n",
              "      border-left-color: var(--fill-color);\n",
              "      border-top-color: var(--fill-color);\n",
              "    }\n",
              "    30% {\n",
              "      border-color: transparent;\n",
              "      border-left-color: var(--fill-color);\n",
              "      border-top-color: var(--fill-color);\n",
              "      border-right-color: var(--fill-color);\n",
              "    }\n",
              "    40% {\n",
              "      border-color: transparent;\n",
              "      border-right-color: var(--fill-color);\n",
              "      border-top-color: var(--fill-color);\n",
              "    }\n",
              "    60% {\n",
              "      border-color: transparent;\n",
              "      border-right-color: var(--fill-color);\n",
              "    }\n",
              "    80% {\n",
              "      border-color: transparent;\n",
              "      border-right-color: var(--fill-color);\n",
              "      border-bottom-color: var(--fill-color);\n",
              "    }\n",
              "    90% {\n",
              "      border-color: transparent;\n",
              "      border-bottom-color: var(--fill-color);\n",
              "    }\n",
              "  }\n",
              "</style>\n",
              "\n",
              "  <script>\n",
              "    async function quickchart(key) {\n",
              "      const quickchartButtonEl =\n",
              "        document.querySelector('#' + key + ' button');\n",
              "      quickchartButtonEl.disabled = true;  // To prevent multiple clicks.\n",
              "      quickchartButtonEl.classList.add('colab-df-spinner');\n",
              "      try {\n",
              "        const charts = await google.colab.kernel.invokeFunction(\n",
              "            'suggestCharts', [key], {});\n",
              "      } catch (error) {\n",
              "        console.error('Error during call to suggestCharts:', error);\n",
              "      }\n",
              "      quickchartButtonEl.classList.remove('colab-df-spinner');\n",
              "      quickchartButtonEl.classList.add('colab-df-quickchart-complete');\n",
              "    }\n",
              "    (() => {\n",
              "      let quickchartButtonEl =\n",
              "        document.querySelector('#df-51d8de2a-5bff-4c40-a874-86fccacf68dc button');\n",
              "      quickchartButtonEl.style.display =\n",
              "        google.colab.kernel.accessAllowed ? 'block' : 'none';\n",
              "    })();\n",
              "  </script>\n",
              "</div>\n",
              "\n",
              "  <div id=\"id_60e9c75d-f8e5-4654-9a19-3eddf6d809f3\">\n",
              "    <style>\n",
              "      .colab-df-generate {\n",
              "        background-color: #E8F0FE;\n",
              "        border: none;\n",
              "        border-radius: 50%;\n",
              "        cursor: pointer;\n",
              "        display: none;\n",
              "        fill: #1967D2;\n",
              "        height: 32px;\n",
              "        padding: 0 0 0 0;\n",
              "        width: 32px;\n",
              "      }\n",
              "\n",
              "      .colab-df-generate:hover {\n",
              "        background-color: #E2EBFA;\n",
              "        box-shadow: 0px 1px 2px rgba(60, 64, 67, 0.3), 0px 1px 3px 1px rgba(60, 64, 67, 0.15);\n",
              "        fill: #174EA6;\n",
              "      }\n",
              "\n",
              "      [theme=dark] .colab-df-generate {\n",
              "        background-color: #3B4455;\n",
              "        fill: #D2E3FC;\n",
              "      }\n",
              "\n",
              "      [theme=dark] .colab-df-generate:hover {\n",
              "        background-color: #434B5C;\n",
              "        box-shadow: 0px 1px 3px 1px rgba(0, 0, 0, 0.15);\n",
              "        filter: drop-shadow(0px 1px 2px rgba(0, 0, 0, 0.3));\n",
              "        fill: #FFFFFF;\n",
              "      }\n",
              "    </style>\n",
              "    <button class=\"colab-df-generate\" onclick=\"generateWithVariable('df_top_anime')\"\n",
              "            title=\"Generate code using this dataframe.\"\n",
              "            style=\"display:none;\">\n",
              "\n",
              "  <svg xmlns=\"http://www.w3.org/2000/svg\" height=\"24px\"viewBox=\"0 0 24 24\"\n",
              "       width=\"24px\">\n",
              "    <path d=\"M7,19H8.4L18.45,9,17,7.55,7,17.6ZM5,21V16.75L18.45,3.32a2,2,0,0,1,2.83,0l1.4,1.43a1.91,1.91,0,0,1,.58,1.4,1.91,1.91,0,0,1-.58,1.4L9.25,21ZM18.45,9,17,7.55Zm-12,3A5.31,5.31,0,0,0,4.9,8.1,5.31,5.31,0,0,0,1,6.5,5.31,5.31,0,0,0,4.9,4.9,5.31,5.31,0,0,0,6.5,1,5.31,5.31,0,0,0,8.1,4.9,5.31,5.31,0,0,0,12,6.5,5.46,5.46,0,0,0,6.5,12Z\"/>\n",
              "  </svg>\n",
              "    </button>\n",
              "    <script>\n",
              "      (() => {\n",
              "      const buttonEl =\n",
              "        document.querySelector('#id_60e9c75d-f8e5-4654-9a19-3eddf6d809f3 button.colab-df-generate');\n",
              "      buttonEl.style.display =\n",
              "        google.colab.kernel.accessAllowed ? 'block' : 'none';\n",
              "\n",
              "      buttonEl.onclick = () => {\n",
              "        google.colab.notebook.generateWithVariable('df_top_anime');\n",
              "      }\n",
              "      })();\n",
              "    </script>\n",
              "  </div>\n",
              "\n",
              "    </div>\n",
              "  </div>\n"
            ],
            "application/vnd.google.colaboratory.intrinsic+json": {
              "type": "dataframe",
              "variable_name": "df_top_anime",
              "summary": "{\n  \"name\": \"df_top_anime\",\n  \"rows\": 10,\n  \"fields\": [\n    {\n      \"column\": \"degree\",\n      \"properties\": {\n        \"dtype\": \"string\",\n        \"num_unique_values\": 10,\n        \"samples\": [\n          \"Angel Beats!\",\n          \"Code Geass: Hangyaku no Lelouch\",\n          \"Fullmetal Alchemist\"\n        ],\n        \"semantic_type\": \"\",\n        \"description\": \"\"\n      }\n    },\n    {\n      \"column\": \"degree B\",\n      \"properties\": {\n        \"dtype\": \"string\",\n        \"num_unique_values\": 10,\n        \"samples\": [\n          \"Angel Beats!\",\n          \"Code Geass: Hangyaku no Lelouch\",\n          \"Fullmetal Alchemist\"\n        ],\n        \"semantic_type\": \"\",\n        \"description\": \"\"\n      }\n    },\n    {\n      \"column\": \"closeness\",\n      \"properties\": {\n        \"dtype\": \"string\",\n        \"num_unique_values\": 10,\n        \"samples\": [\n          \"Code Geass: Hangyaku no Lelouch R2\",\n          \"Sword Art Online\",\n          \"Shingeki no Kyojin\"\n        ],\n        \"semantic_type\": \"\",\n        \"description\": \"\"\n      }\n    },\n    {\n      \"column\": \"closeness W\",\n      \"properties\": {\n        \"dtype\": \"string\",\n        \"num_unique_values\": 10,\n        \"samples\": [\n          \"Ore no Imouto ga Konnani Kawaii Wake ga Nai. Specials\",\n          \"Hametsu no Mars\",\n          \"Dragon Ball GT\"\n        ],\n        \"semantic_type\": \"\",\n        \"description\": \"\"\n      }\n    },\n    {\n      \"column\": \"closeness FW\",\n      \"properties\": {\n        \"dtype\": \"string\",\n        \"num_unique_values\": 10,\n        \"samples\": [\n          \"Shingeki no Kyojin\",\n          \"Code Geass: Hangyaku no Lelouch R2\",\n          \"Fullmetal Alchemist: Brotherhood\"\n        ],\n        \"semantic_type\": \"\",\n        \"description\": \"\"\n      }\n    },\n    {\n      \"column\": \"global avg rank\",\n      \"properties\": {\n        \"dtype\": \"string\",\n        \"num_unique_values\": 10,\n        \"samples\": [\n          \"Steins;Gate\",\n          \"Spoon-hime no Swing Kitchen\",\n          \"Fullmetal Alchemist: Brotherhood\"\n        ],\n        \"semantic_type\": \"\",\n        \"description\": \"\"\n      }\n    },\n    {\n      \"column\": \"members\",\n      \"properties\": {\n        \"dtype\": \"string\",\n        \"num_unique_values\": 10,\n        \"samples\": [\n          \"Mirai Nikki (TV)\",\n          \"Shingeki no Kyojin\",\n          \"Code Geass: Hangyaku no Lelouch\"\n        ],\n        \"semantic_type\": \"\",\n        \"description\": \"\"\n      }\n    }\n  ]\n}"
            }
          },
          "metadata": {},
          "execution_count": 56
        }
      ]
    },
    {
      "cell_type": "markdown",
      "source": [
        "**1.5.1 A Similarity Measure for Indefinite Rankings (RBO)**"
      ],
      "metadata": {
        "id": "qVqdnKytV392"
      }
    },
    {
      "cell_type": "code",
      "source": [
        "import math\n",
        "def rbo(list1, list2, p=0.9):\n",
        "   # tail recursive helper function\n",
        "   def helper(ret, i, d):\n",
        "       l1 = set(list1[:i]) if i < len(list1) else set(list1)\n",
        "       l2 = set(list2[:i]) if i < len(list2) else set(list2)\n",
        "       a_d = len(l1.intersection(l2))/i\n",
        "       term = math.pow(p, i) * a_d\n",
        "       if d == i:\n",
        "           return ret + term\n",
        "       return helper(ret + term, i + 1, d)\n",
        "   k = max(len(list1), len(list2))\n",
        "   x_k = len(set(list1).intersection(set(list2)))\n",
        "   summation = helper(0, 1, k)\n",
        "   return ((float(x_k)/k) * math.pow(p, k)) + ((1-p)/p * summation)"
      ],
      "metadata": {
        "id": "KhtXFwIeV5_O"
      },
      "execution_count": null,
      "outputs": []
    },
    {
      "cell_type": "markdown",
      "source": [
        "**User**"
      ],
      "metadata": {
        "id": "7tKdoQ5bWlu2"
      }
    },
    {
      "cell_type": "code",
      "source": [
        "categories = ['degree', 'degree B', 'closeness', 'closeness W', 'closeness FW']\n",
        "rbo_values = np.zeros((len(categories), len(categories)), dtype=float)\n",
        "for i, c_i in enumerate(categories):\n",
        "  for j, c_j in enumerate(categories):\n",
        "    rbo_metric = rbo(df_top_user[c_i].values, df_top_user[c_j].values)\n",
        "    rbo_values[i,j] = rbo_metric\n",
        "    print('RBO {} - {}: {}'.format(c_i, c_j, rbo_metric))"
      ],
      "metadata": {
        "colab": {
          "base_uri": "https://localhost:8080/"
        },
        "id": "2yZT1Id6WCtR",
        "outputId": "37db1f67-677d-4aaa-a432-98ce3ac52092"
      },
      "execution_count": null,
      "outputs": [
        {
          "output_type": "stream",
          "name": "stdout",
          "text": [
            "RBO degree - degree: 1.0\n",
            "RBO degree - degree B: 1.0\n",
            "RBO degree - closeness: 0.4429007792071429\n",
            "RBO degree - closeness W: 0.0\n",
            "RBO degree - closeness FW: 0.0669372434357143\n",
            "RBO degree B - degree: 1.0\n",
            "RBO degree B - degree B: 1.0\n",
            "RBO degree B - closeness: 0.4429007792071429\n",
            "RBO degree B - closeness W: 0.0\n",
            "RBO degree B - closeness FW: 0.0669372434357143\n",
            "RBO closeness - degree: 0.4429007792071429\n",
            "RBO closeness - degree B: 0.4429007792071429\n",
            "RBO closeness - closeness: 1.0\n",
            "RBO closeness - closeness W: 0.09828424343571428\n",
            "RBO closeness - closeness FW: 0.08005924343571429\n",
            "RBO closeness W - degree: 0.0\n",
            "RBO closeness W - degree B: 0.0\n",
            "RBO closeness W - closeness: 0.09828424343571428\n",
            "RBO closeness W - closeness W: 1.0\n",
            "RBO closeness W - closeness FW: 0.0\n",
            "RBO closeness FW - degree: 0.0669372434357143\n",
            "RBO closeness FW - degree B: 0.0669372434357143\n",
            "RBO closeness FW - closeness: 0.08005924343571429\n",
            "RBO closeness FW - closeness W: 0.0\n",
            "RBO closeness FW - closeness FW: 1.0\n"
          ]
        }
      ]
    },
    {
      "cell_type": "code",
      "source": [
        "# mask for low triangle\n",
        "mask1 = np.tril(np.ones(rbo_values.shape)).astype(dtype = bool)\n",
        "# mask for no diagonal\n",
        "mask2 = np.ones(len(categories)) - np.identity(len(categories))\n",
        "mask2 = mask2.astype(dtype = bool)\n",
        "\n",
        "rbo_triangle = pd.DataFrame(rbo_values).where(np.multiply(mask1, mask2)).iloc[1:,:-1]\n",
        "rbo_triangle.columns = categories[:-1]\n",
        "rbo_triangle.index = categories[1:]"
      ],
      "metadata": {
        "id": "PyRiO6FIWEue"
      },
      "execution_count": null,
      "outputs": []
    },
    {
      "cell_type": "code",
      "source": [
        "mycmap = sns.cubehelix_palette(start=.5, rot=-.75, as_cmap=True)\n",
        "hmap=sns.heatmap(rbo_triangle, cmap=mycmap, annot=True, fmt=\".3f\")\n",
        "plt.title('RBO heatmap Users')\n",
        "plt.tight_layout()\n",
        "#hmap.figure.savefig(\"./figures/RBO_heatmap_users.png\")"
      ],
      "metadata": {
        "colab": {
          "base_uri": "https://localhost:8080/",
          "height": 487
        },
        "id": "ZedhFGksWgGN",
        "outputId": "4843714b-be04-4c57-8849-7bdbe32f2021"
      },
      "execution_count": null,
      "outputs": [
        {
          "output_type": "display_data",
          "data": {
            "text/plain": [
              "<Figure size 640x480 with 2 Axes>"
            ],
            "image/png": "[encoded data removed]"
          },
          "metadata": {}
        }
      ]
    },
    {
      "cell_type": "markdown",
      "source": [
        "**Anime**"
      ],
      "metadata": {
        "id": "SAvO78ikWiXC"
      }
    },
    {
      "cell_type": "code",
      "source": [
        "categories = ['degree', 'degree B', 'closeness', 'closeness W', 'closeness FW', 'global avg rank', 'members']\n",
        "rbo_values = np.zeros((len(categories), len(categories)), dtype=float)\n",
        "for i, c_i in enumerate(categories):\n",
        "  for j, c_j in enumerate(categories):\n",
        "    rbo_metric = rbo(df_top_anime[c_i].values, df_top_anime[c_j].values)\n",
        "    rbo_values[i,j] = rbo_metric\n",
        "    print('RBO {} - {}: {}'.format(c_i, c_j, rbo_metric))"
      ],
      "metadata": {
        "colab": {
          "base_uri": "https://localhost:8080/"
        },
        "id": "G1IwCYfAWkfk",
        "outputId": "50b23b2f-d7f7-457c-fb67-029ae597f21f"
      },
      "execution_count": null,
      "outputs": [
        {
          "output_type": "stream",
          "name": "stdout",
          "text": [
            "RBO degree - degree: 1.0\n",
            "RBO degree - degree B: 1.0\n",
            "RBO degree - closeness: 0.7273950131285715\n",
            "RBO degree - closeness W: 0.0\n",
            "RBO degree - closeness FW: 0.5736733460071428\n",
            "RBO degree - global avg rank: 0.0\n",
            "RBO degree - members: 0.6925607696928571\n",
            "RBO degree B - degree: 1.0\n",
            "RBO degree B - degree B: 1.0\n",
            "RBO degree B - closeness: 0.7273950131285715\n",
            "RBO degree B - closeness W: 0.0\n",
            "RBO degree B - closeness FW: 0.5736733460071428\n",
            "RBO degree B - global avg rank: 0.0\n",
            "RBO degree B - members: 0.6925607696928571\n",
            "RBO closeness - degree: 0.7273950131285715\n",
            "RBO closeness - degree B: 0.7273950131285715\n",
            "RBO closeness - closeness: 1.0\n",
            "RBO closeness - closeness W: 0.0\n",
            "RBO closeness - closeness FW: 0.4868972518214286\n",
            "RBO closeness - global avg rank: 0.0\n",
            "RBO closeness - members: 0.6252807660785714\n",
            "RBO closeness W - degree: 0.0\n",
            "RBO closeness W - degree B: 0.0\n",
            "RBO closeness W - closeness: 0.0\n",
            "RBO closeness W - closeness W: 1.0\n",
            "RBO closeness W - closeness FW: 0.0\n",
            "RBO closeness W - global avg rank: 0.0\n",
            "RBO closeness W - members: 0.0\n",
            "RBO closeness FW - degree: 0.5736733460071428\n",
            "RBO closeness FW - degree B: 0.5736733460071428\n",
            "RBO closeness FW - closeness: 0.4868972518214286\n",
            "RBO closeness FW - closeness W: 0.0\n",
            "RBO closeness FW - closeness FW: 1.0\n",
            "RBO closeness FW - global avg rank: 0.1104622613357143\n",
            "RBO closeness FW - members: 0.5359295262571429\n",
            "RBO global avg rank - degree: 0.0\n",
            "RBO global avg rank - degree B: 0.0\n",
            "RBO global avg rank - closeness: 0.0\n",
            "RBO global avg rank - closeness W: 0.0\n",
            "RBO global avg rank - closeness FW: 0.1104622613357143\n",
            "RBO global avg rank - global avg rank: 1.0\n",
            "RBO global avg rank - members: 0.1104622613357143\n",
            "RBO members - degree: 0.6925607696928571\n",
            "RBO members - degree B: 0.6925607696928571\n",
            "RBO members - closeness: 0.6252807660785714\n",
            "RBO members - closeness W: 0.0\n",
            "RBO members - closeness FW: 0.5359295262571429\n",
            "RBO members - global avg rank: 0.1104622613357143\n",
            "RBO members - members: 1.0\n"
          ]
        }
      ]
    },
    {
      "cell_type": "code",
      "source": [
        "# mask for low triangle\n",
        "mask1 = np.tril(np.ones(rbo_values.shape)).astype(dtype = bool)\n",
        "# mask for no diagonal\n",
        "mask2 = np.ones(len(categories)) - np.identity(len(categories))\n",
        "mask2 = mask2.astype(dtype = bool)\n",
        "\n",
        "rbo_triangle = pd.DataFrame(rbo_values).where(np.multiply(mask1, mask2)).iloc[1:,:-1]\n",
        "rbo_triangle.columns = categories[:-1]\n",
        "rbo_triangle.index = categories[1:]"
      ],
      "metadata": {
        "id": "R4935do9WpsX"
      },
      "execution_count": null,
      "outputs": []
    },
    {
      "cell_type": "code",
      "source": [
        "mycmap = sns.cubehelix_palette(start=.5, rot=-.75, as_cmap=True)\n",
        "hmap=sns.heatmap(rbo_triangle, cmap=mycmap, annot=True, fmt=\".3f\")\n",
        "plt.title('RBO heatmap Anime')\n",
        "plt.tight_layout()\n",
        "#hmap.figure.savefig(\"./figures/RBO_heatmap_anime.png\")"
      ],
      "metadata": {
        "colab": {
          "base_uri": "https://localhost:8080/",
          "height": 487
        },
        "id": "jlgMnBRyWrOh",
        "outputId": "116eafd4-801a-4103-b05e-11de71eb0f1e"
      },
      "execution_count": null,
      "outputs": [
        {
          "output_type": "display_data",
          "data": {
            "text/plain": [
              "<Figure size 640x480 with 2 Axes>"
            ],
            "image/png": "[encoded data removed]"
          },
          "metadata": {}
        }
      ]
    },
    {
      "cell_type": "markdown",
      "source": [
        "**Some final considerations:**\n",
        "\n"
      ],
      "metadata": {
        "id": "2LtpZ-bmW-Xg"
      }
    },
    {
      "cell_type": "markdown",
      "source": [
        "1.Degree centrality computed with and without considering the property of the graph to be bipartite produces the same ranking list, even if the final scores are different.\n",
        "\n",
        "2.Closeness centrality with graph without weights has a ranking quite similiar to the ones of degree centralies, but the order of some elements are different, while others are some new addition.\n",
        "\n",
        "3.Closeness centrality with graph with ratings as weight is not really effective. This is due the fact that the weights in this case are rates which refelect how much an user had appreciated a certain item, but if used during the computation of the metric they are seen as distance lossing the original meaning. Indeed the output ranking is rather different compared with the others. For this reason a function ![image.png](data:image/png;base64,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)\n",
        " is used to map ratings into \"distances\" somehow. For high rates we get low distances and decreasing the rate, the corresponding \"distance\" climp up.\n",
        "\n",
        "4.It's interesting to observe that results obtained thanks graph analisys are not the same as sorting the anime by global avarage rating. A possible reason is that while the graph centrality metrics are calculated based on the given user-item interactions, the global avarage rating is, as the name suggests, only a mean value among ratings. Thus an anime watched by a small comunity that really likes it and so having a high global average rating, it may happen that it's not actually one of the most popular items. This assumption is supported by the fact that our metrics compared with the ranking given by sorting the anime by number of members are more similar.\n",
        "\n",
        "5.It's important to rembember that graph G is huge, therefore computing the exact closeness metric is really difficult in terms of time complexity. For this reason, an approximeted version has been implemented with k=150 empiricaly chosen. It may be that increasing k value, so will happen for the effectiveness of closeness centrality. This is a possibile suggestion when more hardware resources are available.\n",
        "\n",
        "6.Regarding the time complexity, on one hand degree centrality (for both versions) is really fast to compute, while closeness centrality requires 9 ~\n",
        " 10 minutes for the unweighted graph and 41/52 minutes for the weighted variants. Therefore considering that these centraly metrics will be used to solve the cold-start problem, a frequent occurance, having an operation that requires so much time, would be quite demanding. Thus degree centrality can be helpful when the operation is done with an high frequency, but if we decide to compute the most popular items to suggest and the most active users only from time to time (updating the values after a certain period has passed), then also closeness centrality could be used.\n",
        "\n",
        "7.Analogous considerations done on points [1-3] are valid also for the analisys of top k users rankings. Interesting to note that while for anime rankings, closeness FW (closeness centrality with a function of ratings as weights) is similar to degree, degree B, closeness and memebers metrics, the same is not true comparing results for user rankings. A possible reason is that for users degree metrics and closeness centrality without weights, consider the top users the ones which are more active in terms of anime watched. On the other hand closeness with ratings as weights judges the users on the values of rates given. Same for closeness centrality with a function of ratings as weights, but with different final results obviously given by the application of the function f(x).\n",
        ".\n",
        "\n",
        "\n",
        "\n"
      ],
      "metadata": {
        "id": "GFoTFVRnXA-8"
      }
    }
  ]
}